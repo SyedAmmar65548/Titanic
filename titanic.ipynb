{
 "cells": [
  {
   "cell_type": "markdown",
   "id": "10c83fce",
   "metadata": {},
   "source": [
    "## Logistic Regression with Python¶\n",
    "## For this lecture we will be working with the [Titanic Data Set from Kaggle](https://www.kaggle.com/c/titanic). This is a very famous data set and very often is a student's first step in machine learning!\n",
    "\n",
    "## We'll be trying to predict a classification- survival or deceased. Let's begin our understanding of implementing Logistic Regression in Python for classification.\n",
    "\n",
    "## We'll use a \"semi-cleaned\" version of the titanic data set, if you use the data set hosted directly on Kaggle, you may need to do some additional cleaning not shown in this lecture notebook."
   ]
  },
  {
   "cell_type": "code",
   "execution_count": 1,
   "id": "b506d4ea",
   "metadata": {},
   "outputs": [],
   "source": [
    "import pandas as pd\n",
    "import numpy as np\n",
    "import matplotlib.pyplot as plt\n",
    "import seaborn as sns"
   ]
  },
  {
   "cell_type": "code",
   "execution_count": 2,
   "id": "a473b711",
   "metadata": {},
   "outputs": [],
   "source": [
    "df=pd.read_csv('C:\\\\Users\\\\MASHKOOR KHADER\\\\Desktop\\\\project_ML\\\\Titanic\\\\titanic_train.csv')"
   ]
  },
  {
   "cell_type": "code",
   "execution_count": 3,
   "id": "549387fd",
   "metadata": {},
   "outputs": [
    {
     "name": "stdout",
     "output_type": "stream",
     "text": [
      "(891, 12)\n",
      "-------------------------------------------------------------------------------------------------------------------\n",
      "PassengerId:\n",
      "1      1\n",
      "599    1\n",
      "588    1\n",
      "589    1\n",
      "590    1\n",
      "      ..\n",
      "301    1\n",
      "302    1\n",
      "303    1\n",
      "304    1\n",
      "891    1\n",
      "Name: PassengerId, Length: 891, dtype: int64\n",
      "-------------------------------------------------------------------------------------------------------------------\n",
      "Survived:\n",
      "0    549\n",
      "1    342\n",
      "Name: Survived, dtype: int64\n",
      "-------------------------------------------------------------------------------------------------------------------\n",
      "Pclass:\n",
      "3    491\n",
      "1    216\n",
      "2    184\n",
      "Name: Pclass, dtype: int64\n",
      "-------------------------------------------------------------------------------------------------------------------\n",
      "Name:\n",
      "Braund, Mr. Owen Harris                     1\n",
      "Boulos, Mr. Hanna                           1\n",
      "Frolicher-Stehli, Mr. Maxmillian            1\n",
      "Gilinski, Mr. Eliezer                       1\n",
      "Murdlin, Mr. Joseph                         1\n",
      "                                           ..\n",
      "Kelly, Miss. Anna Katherine \"Annie Kate\"    1\n",
      "McCoy, Mr. Bernard                          1\n",
      "Johnson, Mr. William Cahoone Jr             1\n",
      "Keane, Miss. Nora A                         1\n",
      "Dooley, Mr. Patrick                         1\n",
      "Name: Name, Length: 891, dtype: int64\n",
      "-------------------------------------------------------------------------------------------------------------------\n",
      "Sex:\n",
      "male      577\n",
      "female    314\n",
      "Name: Sex, dtype: int64\n",
      "-------------------------------------------------------------------------------------------------------------------\n",
      "Age:\n",
      "24.00    30\n",
      "22.00    27\n",
      "18.00    26\n",
      "19.00    25\n",
      "28.00    25\n",
      "         ..\n",
      "36.50     1\n",
      "55.50     1\n",
      "0.92      1\n",
      "23.50     1\n",
      "74.00     1\n",
      "Name: Age, Length: 88, dtype: int64\n",
      "-------------------------------------------------------------------------------------------------------------------\n",
      "SibSp:\n",
      "0    608\n",
      "1    209\n",
      "2     28\n",
      "4     18\n",
      "3     16\n",
      "8      7\n",
      "5      5\n",
      "Name: SibSp, dtype: int64\n",
      "-------------------------------------------------------------------------------------------------------------------\n",
      "Parch:\n",
      "0    678\n",
      "1    118\n",
      "2     80\n",
      "5      5\n",
      "3      5\n",
      "4      4\n",
      "6      1\n",
      "Name: Parch, dtype: int64\n",
      "-------------------------------------------------------------------------------------------------------------------\n",
      "Ticket:\n",
      "347082      7\n",
      "CA. 2343    7\n",
      "1601        7\n",
      "3101295     6\n",
      "CA 2144     6\n",
      "           ..\n",
      "9234        1\n",
      "19988       1\n",
      "2693        1\n",
      "PC 17612    1\n",
      "370376      1\n",
      "Name: Ticket, Length: 681, dtype: int64\n",
      "-------------------------------------------------------------------------------------------------------------------\n",
      "Fare:\n",
      "8.0500     43\n",
      "13.0000    42\n",
      "7.8958     38\n",
      "7.7500     34\n",
      "26.0000    31\n",
      "           ..\n",
      "35.0000     1\n",
      "28.5000     1\n",
      "6.2375      1\n",
      "14.0000     1\n",
      "10.5167     1\n",
      "Name: Fare, Length: 248, dtype: int64\n",
      "-------------------------------------------------------------------------------------------------------------------\n",
      "Cabin:\n",
      "B96 B98        4\n",
      "G6             4\n",
      "C23 C25 C27    4\n",
      "C22 C26        3\n",
      "F33            3\n",
      "              ..\n",
      "E34            1\n",
      "C7             1\n",
      "C54            1\n",
      "E36            1\n",
      "C148           1\n",
      "Name: Cabin, Length: 147, dtype: int64\n",
      "-------------------------------------------------------------------------------------------------------------------\n",
      "Embarked:\n",
      "S    644\n",
      "C    168\n",
      "Q     77\n",
      "Name: Embarked, dtype: int64\n"
     ]
    }
   ],
   "source": [
    "print(df.shape)\n",
    "for i in df.columns:\n",
    "    print('-------------------------------------------------------------------------------------------------------------------')\n",
    "    print(i+':')\n",
    "    print(df[i].value_counts())"
   ]
  },
  {
   "cell_type": "markdown",
   "id": "e6fc6fa9",
   "metadata": {},
   "source": [
    "# Continious variable :"
   ]
  },
  {
   "cell_type": "code",
   "execution_count": 4,
   "id": "357a55e7",
   "metadata": {},
   "outputs": [
    {
     "data": {
      "text/html": [
       "<div>\n",
       "<style scoped>\n",
       "    .dataframe tbody tr th:only-of-type {\n",
       "        vertical-align: middle;\n",
       "    }\n",
       "\n",
       "    .dataframe tbody tr th {\n",
       "        vertical-align: top;\n",
       "    }\n",
       "\n",
       "    .dataframe thead th {\n",
       "        text-align: right;\n",
       "    }\n",
       "</style>\n",
       "<table border=\"1\" class=\"dataframe\">\n",
       "  <thead>\n",
       "    <tr style=\"text-align: right;\">\n",
       "      <th></th>\n",
       "      <th>PassengerId</th>\n",
       "      <th>Survived</th>\n",
       "      <th>Pclass</th>\n",
       "      <th>Name</th>\n",
       "      <th>Sex</th>\n",
       "      <th>Age</th>\n",
       "      <th>SibSp</th>\n",
       "      <th>Parch</th>\n",
       "      <th>Ticket</th>\n",
       "      <th>Fare</th>\n",
       "      <th>Cabin</th>\n",
       "      <th>Embarked</th>\n",
       "    </tr>\n",
       "  </thead>\n",
       "  <tbody>\n",
       "    <tr>\n",
       "      <th>0</th>\n",
       "      <td>1</td>\n",
       "      <td>0</td>\n",
       "      <td>3</td>\n",
       "      <td>Braund, Mr. Owen Harris</td>\n",
       "      <td>male</td>\n",
       "      <td>22.0</td>\n",
       "      <td>1</td>\n",
       "      <td>0</td>\n",
       "      <td>A/5 21171</td>\n",
       "      <td>7.2500</td>\n",
       "      <td>NaN</td>\n",
       "      <td>S</td>\n",
       "    </tr>\n",
       "    <tr>\n",
       "      <th>1</th>\n",
       "      <td>2</td>\n",
       "      <td>1</td>\n",
       "      <td>1</td>\n",
       "      <td>Cumings, Mrs. John Bradley (Florence Briggs Th...</td>\n",
       "      <td>female</td>\n",
       "      <td>38.0</td>\n",
       "      <td>1</td>\n",
       "      <td>0</td>\n",
       "      <td>PC 17599</td>\n",
       "      <td>71.2833</td>\n",
       "      <td>C85</td>\n",
       "      <td>C</td>\n",
       "    </tr>\n",
       "    <tr>\n",
       "      <th>2</th>\n",
       "      <td>3</td>\n",
       "      <td>1</td>\n",
       "      <td>3</td>\n",
       "      <td>Heikkinen, Miss. Laina</td>\n",
       "      <td>female</td>\n",
       "      <td>26.0</td>\n",
       "      <td>0</td>\n",
       "      <td>0</td>\n",
       "      <td>STON/O2. 3101282</td>\n",
       "      <td>7.9250</td>\n",
       "      <td>NaN</td>\n",
       "      <td>S</td>\n",
       "    </tr>\n",
       "    <tr>\n",
       "      <th>3</th>\n",
       "      <td>4</td>\n",
       "      <td>1</td>\n",
       "      <td>1</td>\n",
       "      <td>Futrelle, Mrs. Jacques Heath (Lily May Peel)</td>\n",
       "      <td>female</td>\n",
       "      <td>35.0</td>\n",
       "      <td>1</td>\n",
       "      <td>0</td>\n",
       "      <td>113803</td>\n",
       "      <td>53.1000</td>\n",
       "      <td>C123</td>\n",
       "      <td>S</td>\n",
       "    </tr>\n",
       "    <tr>\n",
       "      <th>4</th>\n",
       "      <td>5</td>\n",
       "      <td>0</td>\n",
       "      <td>3</td>\n",
       "      <td>Allen, Mr. William Henry</td>\n",
       "      <td>male</td>\n",
       "      <td>35.0</td>\n",
       "      <td>0</td>\n",
       "      <td>0</td>\n",
       "      <td>373450</td>\n",
       "      <td>8.0500</td>\n",
       "      <td>NaN</td>\n",
       "      <td>S</td>\n",
       "    </tr>\n",
       "  </tbody>\n",
       "</table>\n",
       "</div>"
      ],
      "text/plain": [
       "   PassengerId  Survived  Pclass  \\\n",
       "0            1         0       3   \n",
       "1            2         1       1   \n",
       "2            3         1       3   \n",
       "3            4         1       1   \n",
       "4            5         0       3   \n",
       "\n",
       "                                                Name     Sex   Age  SibSp  \\\n",
       "0                            Braund, Mr. Owen Harris    male  22.0      1   \n",
       "1  Cumings, Mrs. John Bradley (Florence Briggs Th...  female  38.0      1   \n",
       "2                             Heikkinen, Miss. Laina  female  26.0      0   \n",
       "3       Futrelle, Mrs. Jacques Heath (Lily May Peel)  female  35.0      1   \n",
       "4                           Allen, Mr. William Henry    male  35.0      0   \n",
       "\n",
       "   Parch            Ticket     Fare Cabin Embarked  \n",
       "0      0         A/5 21171   7.2500   NaN        S  \n",
       "1      0          PC 17599  71.2833   C85        C  \n",
       "2      0  STON/O2. 3101282   7.9250   NaN        S  \n",
       "3      0            113803  53.1000  C123        S  \n",
       "4      0            373450   8.0500   NaN        S  "
      ]
     },
     "execution_count": 4,
     "metadata": {},
     "output_type": "execute_result"
    }
   ],
   "source": [
    "df.head()"
   ]
  },
  {
   "cell_type": "code",
   "execution_count": 5,
   "id": "d6eaaa2e",
   "metadata": {},
   "outputs": [],
   "source": [
    "Continious=['Fare','Age']"
   ]
  },
  {
   "cell_type": "code",
   "execution_count": 6,
   "id": "acf8c4b7",
   "metadata": {},
   "outputs": [
    {
     "name": "stdout",
     "output_type": "stream",
     "text": [
      "---------------------------------------------------------------------------------------------------------------------\n",
      "Fare:\n",
      "number of null in \"Fare\" is : 0\n",
      "---------------------------------------------------------------------------------------------------------------------\n",
      "Age:\n",
      "number of null in \"Age\" is : 177\n"
     ]
    }
   ],
   "source": [
    "for i in Continious:\n",
    "    print('---------------------------------------------------------------------------------------------------------------------')\n",
    "    print(i+\":\")\n",
    "    print('number of null in \"{}\" is :'.format(i),df[i].isnull().sum())"
   ]
  },
  {
   "cell_type": "code",
   "execution_count": 7,
   "id": "d3d2e825",
   "metadata": {
    "scrolled": false
   },
   "outputs": [
    {
     "data": {
      "text/plain": [
       "<AxesSubplot:>"
      ]
     },
     "execution_count": 7,
     "metadata": {},
     "output_type": "execute_result"
    },
    {
     "data": {
      "image/png": "[encoded data removed]",
      "text/plain": [
       "<Figure size 432x288 with 2 Axes>"
      ]
     },
     "metadata": {
      "needs_background": "light"
     },
     "output_type": "display_data"
    }
   ],
   "source": [
    "sns.heatmap(df.corr(),annot=True)"
   ]
  },
  {
   "cell_type": "markdown",
   "id": "91eb3c8f",
   "metadata": {},
   "source": [
    "## \"Age is Highly corellated with Passenger class\""
   ]
  },
  {
   "cell_type": "markdown",
   "id": "25306d2c",
   "metadata": {},
   "source": [
    "## Age vs Passenger Class"
   ]
  },
  {
   "cell_type": "code",
   "execution_count": 8,
   "id": "f263e3d0",
   "metadata": {
    "scrolled": true
   },
   "outputs": [
    {
     "data": {
      "text/plain": [
       "<AxesSubplot:xlabel='Pclass', ylabel='Age'>"
      ]
     },
     "execution_count": 8,
     "metadata": {},
     "output_type": "execute_result"
    },
    {
     "data": {
      "image/png": "[encoded data removed]",
      "text/plain": [
       "<Figure size 864x504 with 1 Axes>"
      ]
     },
     "metadata": {
      "needs_background": "light"
     },
     "output_type": "display_data"
    }
   ],
   "source": [
    "plt.figure(figsize=(12, 7))\n",
    "sns.boxplot(x='Pclass',y='Age',data=df,palette='winter')"
   ]
  },
  {
   "cell_type": "code",
   "execution_count": 9,
   "id": "35e5e408",
   "metadata": {
    "scrolled": true
   },
   "outputs": [
    {
     "data": {
      "text/html": [
       "<div>\n",
       "<style scoped>\n",
       "    .dataframe tbody tr th:only-of-type {\n",
       "        vertical-align: middle;\n",
       "    }\n",
       "\n",
       "    .dataframe tbody tr th {\n",
       "        vertical-align: top;\n",
       "    }\n",
       "\n",
       "    .dataframe thead th {\n",
       "        text-align: right;\n",
       "    }\n",
       "</style>\n",
       "<table border=\"1\" class=\"dataframe\">\n",
       "  <thead>\n",
       "    <tr style=\"text-align: right;\">\n",
       "      <th></th>\n",
       "      <th>count</th>\n",
       "      <th>mean</th>\n",
       "      <th>std</th>\n",
       "      <th>min</th>\n",
       "      <th>25%</th>\n",
       "      <th>50%</th>\n",
       "      <th>75%</th>\n",
       "      <th>max</th>\n",
       "    </tr>\n",
       "    <tr>\n",
       "      <th>Pclass</th>\n",
       "      <th></th>\n",
       "      <th></th>\n",
       "      <th></th>\n",
       "      <th></th>\n",
       "      <th></th>\n",
       "      <th></th>\n",
       "      <th></th>\n",
       "      <th></th>\n",
       "    </tr>\n",
       "  </thead>\n",
       "  <tbody>\n",
       "    <tr>\n",
       "      <th>1</th>\n",
       "      <td>186.0</td>\n",
       "      <td>38.233441</td>\n",
       "      <td>14.802856</td>\n",
       "      <td>0.92</td>\n",
       "      <td>27.0</td>\n",
       "      <td>37.0</td>\n",
       "      <td>49.0</td>\n",
       "      <td>80.0</td>\n",
       "    </tr>\n",
       "    <tr>\n",
       "      <th>2</th>\n",
       "      <td>173.0</td>\n",
       "      <td>29.877630</td>\n",
       "      <td>14.001077</td>\n",
       "      <td>0.67</td>\n",
       "      <td>23.0</td>\n",
       "      <td>29.0</td>\n",
       "      <td>36.0</td>\n",
       "      <td>70.0</td>\n",
       "    </tr>\n",
       "    <tr>\n",
       "      <th>3</th>\n",
       "      <td>355.0</td>\n",
       "      <td>25.140620</td>\n",
       "      <td>12.495398</td>\n",
       "      <td>0.42</td>\n",
       "      <td>18.0</td>\n",
       "      <td>24.0</td>\n",
       "      <td>32.0</td>\n",
       "      <td>74.0</td>\n",
       "    </tr>\n",
       "  </tbody>\n",
       "</table>\n",
       "</div>"
      ],
      "text/plain": [
       "        count       mean        std   min   25%   50%   75%   max\n",
       "Pclass                                                           \n",
       "1       186.0  38.233441  14.802856  0.92  27.0  37.0  49.0  80.0\n",
       "2       173.0  29.877630  14.001077  0.67  23.0  29.0  36.0  70.0\n",
       "3       355.0  25.140620  12.495398  0.42  18.0  24.0  32.0  74.0"
      ]
     },
     "execution_count": 9,
     "metadata": {},
     "output_type": "execute_result"
    }
   ],
   "source": [
    "df.Age.groupby(df.Pclass).describe()"
   ]
  },
  {
   "cell_type": "code",
   "execution_count": 10,
   "id": "1d2cdb43",
   "metadata": {},
   "outputs": [
    {
     "data": {
      "text/plain": [
       "Pclass\n",
       "1    37.0\n",
       "2    29.0\n",
       "3    24.0\n",
       "Name: 50%, dtype: float64"
      ]
     },
     "execution_count": 10,
     "metadata": {},
     "output_type": "execute_result"
    }
   ],
   "source": [
    "df.Age.groupby(df.Pclass).describe()['50%']"
   ]
  },
  {
   "cell_type": "code",
   "execution_count": 11,
   "id": "8d67c0c5",
   "metadata": {},
   "outputs": [],
   "source": [
    "df_age=df[['Pclass','Age']]"
   ]
  },
  {
   "cell_type": "code",
   "execution_count": 107,
   "id": "64eaa965",
   "metadata": {},
   "outputs": [
    {
     "data": {
      "text/html": [
       "<div>\n",
       "<style scoped>\n",
       "    .dataframe tbody tr th:only-of-type {\n",
       "        vertical-align: middle;\n",
       "    }\n",
       "\n",
       "    .dataframe tbody tr th {\n",
       "        vertical-align: top;\n",
       "    }\n",
       "\n",
       "    .dataframe thead th {\n",
       "        text-align: right;\n",
       "    }\n",
       "</style>\n",
       "<table border=\"1\" class=\"dataframe\">\n",
       "  <thead>\n",
       "    <tr style=\"text-align: right;\">\n",
       "      <th></th>\n",
       "      <th>Pclass</th>\n",
       "      <th>Age</th>\n",
       "    </tr>\n",
       "  </thead>\n",
       "  <tbody>\n",
       "    <tr>\n",
       "      <th>0</th>\n",
       "      <td>3</td>\n",
       "      <td>22.0</td>\n",
       "    </tr>\n",
       "    <tr>\n",
       "      <th>1</th>\n",
       "      <td>1</td>\n",
       "      <td>38.0</td>\n",
       "    </tr>\n",
       "    <tr>\n",
       "      <th>2</th>\n",
       "      <td>3</td>\n",
       "      <td>26.0</td>\n",
       "    </tr>\n",
       "    <tr>\n",
       "      <th>3</th>\n",
       "      <td>1</td>\n",
       "      <td>35.0</td>\n",
       "    </tr>\n",
       "    <tr>\n",
       "      <th>4</th>\n",
       "      <td>3</td>\n",
       "      <td>35.0</td>\n",
       "    </tr>\n",
       "    <tr>\n",
       "      <th>...</th>\n",
       "      <td>...</td>\n",
       "      <td>...</td>\n",
       "    </tr>\n",
       "    <tr>\n",
       "      <th>886</th>\n",
       "      <td>2</td>\n",
       "      <td>27.0</td>\n",
       "    </tr>\n",
       "    <tr>\n",
       "      <th>887</th>\n",
       "      <td>1</td>\n",
       "      <td>19.0</td>\n",
       "    </tr>\n",
       "    <tr>\n",
       "      <th>888</th>\n",
       "      <td>3</td>\n",
       "      <td>NaN</td>\n",
       "    </tr>\n",
       "    <tr>\n",
       "      <th>889</th>\n",
       "      <td>1</td>\n",
       "      <td>26.0</td>\n",
       "    </tr>\n",
       "    <tr>\n",
       "      <th>890</th>\n",
       "      <td>3</td>\n",
       "      <td>32.0</td>\n",
       "    </tr>\n",
       "  </tbody>\n",
       "</table>\n",
       "<p>891 rows × 2 columns</p>\n",
       "</div>"
      ],
      "text/plain": [
       "     Pclass   Age\n",
       "0         3  22.0\n",
       "1         1  38.0\n",
       "2         3  26.0\n",
       "3         1  35.0\n",
       "4         3  35.0\n",
       "..      ...   ...\n",
       "886       2  27.0\n",
       "887       1  19.0\n",
       "888       3   NaN\n",
       "889       1  26.0\n",
       "890       3  32.0\n",
       "\n",
       "[891 rows x 2 columns]"
      ]
     },
     "execution_count": 107,
     "metadata": {},
     "output_type": "execute_result"
    }
   ],
   "source": [
    "df_age"
   ]
  },
  {
   "cell_type": "code",
   "execution_count": 108,
   "id": "13d1bb33",
   "metadata": {},
   "outputs": [
    {
     "data": {
      "text/plain": [
       "0      False\n",
       "1      False\n",
       "2      False\n",
       "3      False\n",
       "4      False\n",
       "       ...  \n",
       "886    False\n",
       "887    False\n",
       "888     True\n",
       "889    False\n",
       "890    False\n",
       "Name: Age, Length: 891, dtype: bool"
      ]
     },
     "execution_count": 108,
     "metadata": {},
     "output_type": "execute_result"
    }
   ],
   "source": [
    "df_age.Age.isnull()"
   ]
  },
  {
   "cell_type": "code",
   "execution_count": 12,
   "id": "478f6b08",
   "metadata": {},
   "outputs": [
    {
     "name": "stdout",
     "output_type": "stream",
     "text": [
      "row number: 5\n",
      "passenger class: 3\n",
      "True\n",
      "row number: 17\n",
      "passenger class: 2\n",
      "True\n",
      "row number: 19\n",
      "passenger class: 3\n",
      "True\n",
      "row number: 26\n",
      "passenger class: 3\n",
      "True\n",
      "row number: 28\n",
      "passenger class: 3\n",
      "True\n",
      "row number: 29\n",
      "passenger class: 3\n",
      "True\n",
      "row number: 31\n",
      "passenger class: 1\n",
      "True\n",
      "row number: 32\n",
      "passenger class: 3\n",
      "True\n",
      "row number: 36\n",
      "passenger class: 3\n",
      "True\n",
      "row number: 42\n",
      "passenger class: 3\n",
      "True\n",
      "row number: 45\n",
      "passenger class: 3\n",
      "True\n",
      "row number: 46\n",
      "passenger class: 3\n",
      "True\n",
      "row number: 47\n",
      "passenger class: 3\n",
      "True\n",
      "row number: 48\n",
      "passenger class: 3\n",
      "True\n",
      "row number: 55\n",
      "passenger class: 1\n",
      "True\n",
      "row number: 64\n",
      "passenger class: 1\n",
      "True\n",
      "row number: 65\n",
      "passenger class: 3\n",
      "True\n",
      "row number: 76\n",
      "passenger class: 3\n",
      "True\n",
      "row number: 77\n",
      "passenger class: 3\n",
      "True\n",
      "row number: 82\n",
      "passenger class: 3\n",
      "True\n",
      "row number: 87\n",
      "passenger class: 3\n",
      "True\n",
      "row number: 95\n",
      "passenger class: 3\n",
      "True\n",
      "row number: 101\n",
      "passenger class: 3\n",
      "True\n",
      "row number: 107\n",
      "passenger class: 3\n",
      "True\n",
      "row number: 109\n",
      "passenger class: 3\n",
      "True\n",
      "row number: 121\n",
      "passenger class: 3\n",
      "True\n",
      "row number: 126\n",
      "passenger class: 3\n",
      "True\n",
      "row number: 128\n",
      "passenger class: 3\n",
      "True\n",
      "row number: 140\n",
      "passenger class: 3\n",
      "True\n",
      "row number: 154\n",
      "passenger class: 3\n",
      "True\n",
      "row number: 158\n",
      "passenger class: 3\n",
      "True\n",
      "row number: 159\n",
      "passenger class: 3\n",
      "True\n",
      "row number: 166\n",
      "passenger class: 1\n",
      "True\n",
      "row number: 168\n",
      "passenger class: 1\n",
      "True\n",
      "row number: 176\n",
      "passenger class: 3\n",
      "True\n",
      "row number: 180\n",
      "passenger class: 3\n",
      "True\n",
      "row number: 181\n",
      "passenger class: 2\n",
      "True\n",
      "row number: 185\n",
      "passenger class: 1\n",
      "True\n",
      "row number: 186\n",
      "passenger class: 3\n",
      "True\n",
      "row number: 196\n",
      "passenger class: 3\n",
      "True\n",
      "row number: 198\n",
      "passenger class: 3\n",
      "True\n",
      "row number: 201\n",
      "passenger class: 3\n",
      "True\n",
      "row number: 214\n",
      "passenger class: 3\n",
      "True\n",
      "row number: 223\n",
      "passenger class: 3\n",
      "True\n",
      "row number: 229\n",
      "passenger class: 3\n",
      "True\n",
      "row number: 235\n",
      "passenger class: 3\n",
      "True\n",
      "row number: 240\n",
      "passenger class: 3\n",
      "True\n",
      "row number: 241\n",
      "passenger class: 3\n",
      "True\n",
      "row number: 250\n",
      "passenger class: 3\n",
      "True\n",
      "row number: 256\n",
      "passenger class: 1\n",
      "True\n",
      "row number: 260\n",
      "passenger class: 3\n",
      "True\n",
      "row number: 264\n",
      "passenger class: 3\n",
      "True\n",
      "row number: 270\n",
      "passenger class: 1\n",
      "True\n",
      "row number: 274\n",
      "passenger class: 3\n",
      "True\n",
      "row number: 277\n",
      "passenger class: 2\n",
      "True\n",
      "row number: 284\n",
      "passenger class: 1\n",
      "True\n",
      "row number: 295\n",
      "passenger class: 1\n",
      "True\n",
      "row number: 298\n",
      "passenger class: 1\n",
      "True\n",
      "row number: 300\n",
      "passenger class: 3\n",
      "True\n",
      "row number: 301\n",
      "passenger class: 3\n",
      "True\n",
      "row number: 303\n",
      "passenger class: 2\n",
      "True\n",
      "row number: 304\n",
      "passenger class: 3\n",
      "True\n",
      "row number: 306\n",
      "passenger class: 1\n",
      "True\n",
      "row number: 324\n",
      "passenger class: 3\n",
      "True\n",
      "row number: 330\n",
      "passenger class: 3\n",
      "True\n",
      "row number: 334\n",
      "passenger class: 1\n",
      "True\n",
      "row number: 335\n",
      "passenger class: 3\n",
      "True\n",
      "row number: 347\n",
      "passenger class: 3\n",
      "True\n",
      "row number: 351\n",
      "passenger class: 1\n",
      "True\n",
      "row number: 354\n",
      "passenger class: 3\n",
      "True\n",
      "row number: 358\n",
      "passenger class: 3\n",
      "True\n",
      "row number: 359\n",
      "passenger class: 3\n",
      "True\n",
      "row number: 364\n",
      "passenger class: 3\n",
      "True\n",
      "row number: 367\n",
      "passenger class: 3\n",
      "True\n",
      "row number: 368\n",
      "passenger class: 3\n",
      "True\n",
      "row number: 375\n",
      "passenger class: 1\n",
      "True\n",
      "row number: 384\n",
      "passenger class: 3\n",
      "True\n",
      "row number: 388\n",
      "passenger class: 3\n",
      "True\n",
      "row number: 409\n",
      "passenger class: 3\n",
      "True\n",
      "row number: 410\n",
      "passenger class: 3\n",
      "True\n",
      "row number: 411\n",
      "passenger class: 3\n",
      "True\n",
      "row number: 413\n",
      "passenger class: 2\n",
      "True\n",
      "row number: 415\n",
      "passenger class: 3\n",
      "True\n",
      "row number: 420\n",
      "passenger class: 3\n",
      "True\n",
      "row number: 425\n",
      "passenger class: 3\n",
      "True\n",
      "row number: 428\n",
      "passenger class: 3\n",
      "True\n",
      "row number: 431\n",
      "passenger class: 3\n",
      "True\n",
      "row number: 444\n",
      "passenger class: 3\n",
      "True\n",
      "row number: 451\n",
      "passenger class: 3\n",
      "True\n",
      "row number: 454\n",
      "passenger class: 3\n",
      "True\n",
      "row number: 457\n",
      "passenger class: 1\n",
      "True\n",
      "row number: 459\n",
      "passenger class: 3\n",
      "True\n",
      "row number: 464\n",
      "passenger class: 3\n",
      "True\n",
      "row number: 466\n",
      "passenger class: 2\n",
      "True\n",
      "row number: 468\n",
      "passenger class: 3\n",
      "True\n",
      "row number: 470\n",
      "passenger class: 3\n",
      "True\n",
      "row number: 475\n",
      "passenger class: 1\n",
      "True\n",
      "row number: 481\n",
      "passenger class: 2\n",
      "True\n",
      "row number: 485\n",
      "passenger class: 3\n",
      "True\n",
      "row number: 490\n",
      "passenger class: 3\n",
      "True\n",
      "row number: 495\n",
      "passenger class: 3\n",
      "True\n",
      "row number: 497\n",
      "passenger class: 3\n",
      "True\n",
      "row number: 502\n",
      "passenger class: 3\n",
      "True\n",
      "row number: 507\n",
      "passenger class: 1\n",
      "True\n",
      "row number: 511\n",
      "passenger class: 3\n",
      "True\n",
      "row number: 517\n",
      "passenger class: 3\n",
      "True\n",
      "row number: 522\n",
      "passenger class: 3\n",
      "True\n",
      "row number: 524\n",
      "passenger class: 3\n",
      "True\n",
      "row number: 527\n",
      "passenger class: 1\n",
      "True\n",
      "row number: 531\n",
      "passenger class: 3\n",
      "True\n",
      "row number: 533\n",
      "passenger class: 3\n",
      "True\n",
      "row number: 538\n",
      "passenger class: 3\n",
      "True\n",
      "row number: 547\n",
      "passenger class: 2\n",
      "True\n",
      "row number: 552\n",
      "passenger class: 3\n",
      "True\n",
      "row number: 557\n",
      "passenger class: 1\n",
      "True\n",
      "row number: 560\n",
      "passenger class: 3\n",
      "True\n",
      "row number: 563\n",
      "passenger class: 3\n",
      "True\n",
      "row number: 564\n",
      "passenger class: 3\n",
      "True\n",
      "row number: 568\n",
      "passenger class: 3\n",
      "True\n",
      "row number: 573\n",
      "passenger class: 3\n",
      "True\n",
      "row number: 578\n",
      "passenger class: 3\n",
      "True\n",
      "row number: 584\n",
      "passenger class: 3\n",
      "True\n",
      "row number: 589\n",
      "passenger class: 3\n",
      "True\n",
      "row number: 593\n",
      "passenger class: 3\n",
      "True\n",
      "row number: 596\n",
      "passenger class: 2\n",
      "True\n",
      "row number: 598\n",
      "passenger class: 3\n",
      "True\n",
      "row number: 601\n",
      "passenger class: 3\n",
      "True\n",
      "row number: 602\n",
      "passenger class: 1\n",
      "True\n",
      "row number: 611\n",
      "passenger class: 3\n",
      "True\n",
      "row number: 612\n",
      "passenger class: 3\n",
      "True\n",
      "row number: 613\n",
      "passenger class: 3\n",
      "True\n",
      "row number: 629\n",
      "passenger class: 3\n",
      "True\n",
      "row number: 633\n",
      "passenger class: 1\n",
      "True\n",
      "row number: 639\n",
      "passenger class: 3\n",
      "True\n",
      "row number: 643\n",
      "passenger class: 3\n",
      "True\n",
      "row number: 648\n",
      "passenger class: 3\n",
      "True\n",
      "row number: 650\n",
      "passenger class: 3\n",
      "True\n",
      "row number: 653\n",
      "passenger class: 3\n",
      "True\n",
      "row number: 656\n",
      "passenger class: 3\n",
      "True\n",
      "row number: 667\n",
      "passenger class: 3\n",
      "True\n",
      "row number: 669\n",
      "passenger class: 1\n",
      "True\n",
      "row number: 674\n",
      "passenger class: 2\n",
      "True\n",
      "row number: 680\n",
      "passenger class: 3\n",
      "True\n",
      "row number: 692\n",
      "passenger class: 3\n",
      "True\n",
      "row number: 697\n",
      "passenger class: 3\n",
      "True\n",
      "row number: 709\n",
      "passenger class: 3\n",
      "True\n",
      "row number: 711\n",
      "passenger class: 1\n",
      "True\n",
      "row number: 718\n",
      "passenger class: 3\n",
      "True\n",
      "row number: 727\n",
      "passenger class: 3\n",
      "True\n",
      "row number: 732\n",
      "passenger class: 2\n",
      "True\n",
      "row number: 738\n",
      "passenger class: 3\n",
      "True\n",
      "row number: 739\n",
      "passenger class: 3\n",
      "True\n",
      "row number: 740\n",
      "passenger class: 1\n",
      "True\n",
      "row number: 760\n",
      "passenger class: 3\n",
      "True\n",
      "row number: 766\n",
      "passenger class: 1\n",
      "True\n",
      "row number: 768\n",
      "passenger class: 3\n",
      "True\n",
      "row number: 773\n",
      "passenger class: 3\n",
      "True\n",
      "row number: 776\n",
      "passenger class: 3\n",
      "True\n",
      "row number: 778\n",
      "passenger class: 3\n",
      "True\n",
      "row number: 783\n",
      "passenger class: 3\n",
      "True\n",
      "row number: 790\n",
      "passenger class: 3\n",
      "True\n",
      "row number: 792\n",
      "passenger class: 3\n",
      "True\n",
      "row number: 793\n",
      "passenger class: 1\n",
      "True\n",
      "row number: 815\n",
      "passenger class: 1\n",
      "True\n",
      "row number: 825\n",
      "passenger class: 3\n",
      "True\n",
      "row number: 826\n",
      "passenger class: 3\n",
      "True\n",
      "row number: 828\n",
      "passenger class: 3\n",
      "True\n",
      "row number: 832\n",
      "passenger class: 3\n",
      "True\n",
      "row number: 837\n",
      "passenger class: 3\n",
      "True\n",
      "row number: 839\n",
      "passenger class: 1\n",
      "True\n",
      "row number: 846\n",
      "passenger class: 3\n",
      "True\n",
      "row number: 849\n",
      "passenger class: 1\n",
      "True\n",
      "row number: 859\n",
      "passenger class: 3\n",
      "True\n",
      "row number: 863\n",
      "passenger class: 3\n",
      "True\n",
      "row number: 868\n",
      "passenger class: 3\n",
      "True\n",
      "row number: 878\n",
      "passenger class: 3\n",
      "True\n",
      "row number: 888\n",
      "passenger class: 3\n",
      "True\n"
     ]
    }
   ],
   "source": [
    "a1=37\n",
    "a2=29\n",
    "a3=24\n",
    "marker=0\n",
    "for i in df_age.Age.isnull():\n",
    "    if i:\n",
    "        print('row number:',marker)\n",
    "        print('passenger class:',df_age.iloc[marker,0])\n",
    "        print(i)\n",
    "    marker=marker+1    \n",
    "        \n",
    "    "
   ]
  },
  {
   "cell_type": "code",
   "execution_count": 13,
   "id": "6c8297d8",
   "metadata": {},
   "outputs": [
    {
     "data": {
      "text/plain": [
       "0      22.0\n",
       "1      38.0\n",
       "2      26.0\n",
       "3      35.0\n",
       "4      35.0\n",
       "       ... \n",
       "886    27.0\n",
       "887    19.0\n",
       "888    24.0\n",
       "889    26.0\n",
       "890    32.0\n",
       "Name: Age, Length: 891, dtype: float64"
      ]
     },
     "execution_count": 13,
     "metadata": {},
     "output_type": "execute_result"
    }
   ],
   "source": [
    "df['Age'].fillna(df.groupby('Pclass')['Age'].transform('median'))"
   ]
  },
  {
   "cell_type": "code",
   "execution_count": 14,
   "id": "2aabb6b2",
   "metadata": {},
   "outputs": [],
   "source": [
    "df['Age'].fillna(df.groupby('Pclass')['Age'].transform('median'),inplace=True)"
   ]
  },
  {
   "cell_type": "code",
   "execution_count": 15,
   "id": "47787f07",
   "metadata": {},
   "outputs": [
    {
     "name": "stdout",
     "output_type": "stream",
     "text": [
      "-----------------------------------------------------------------------------------------------------------------\n",
      "Fare:\n"
     ]
    },
    {
     "data": {
      "image/png": "[encoded data removed]",
      "text/plain": [
       "<Figure size 1440x720 with 1 Axes>"
      ]
     },
     "metadata": {
      "needs_background": "light"
     },
     "output_type": "display_data"
    },
    {
     "name": "stdout",
     "output_type": "stream",
     "text": [
      "left limit:-26.724\n",
      "right limit:65.6344\n",
      "iqr:23.0896\n",
      "The total number of records are:891\n",
      "The number of outliers are: 116\n",
      "The total percentage of outliers are: 13.019079685746352 %\n",
      "if left outlier type 'left' else 'right' else 'both' if no outliers then type 'no'right\n",
      "by what number do you want to replace65\n"
     ]
    },
    {
     "data": {
      "image/png": "[encoded data removed]",
      "text/plain": [
       "<Figure size 1440x720 with 1 Axes>"
      ]
     },
     "metadata": {
      "needs_background": "light"
     },
     "output_type": "display_data"
    },
    {
     "name": "stdout",
     "output_type": "stream",
     "text": [
      "-----------------------------------------------------------------------------------------------------------------\n",
      "Age:\n"
     ]
    },
    {
     "data": {
      "image/png": "[encoded data removed]",
      "text/plain": [
       "<Figure size 1440x720 with 1 Axes>"
      ]
     },
     "metadata": {
      "needs_background": "light"
     },
     "output_type": "display_data"
    },
    {
     "name": "stdout",
     "output_type": "stream",
     "text": [
      "left limit:-0.5\n",
      "right limit:59.5\n",
      "iqr:15.0\n",
      "The total number of records are:891\n",
      "The number of outliers are: 26\n",
      "The total percentage of outliers are: 2.9180695847362514 %\n",
      "if left outlier type 'left' else 'right' else 'both' if no outliers then type 'no'no\n"
     ]
    }
   ],
   "source": [
    "for i in Continious:\n",
    "    print('-----------------------------------------------------------------------------------------------------------------')\n",
    "    print(i+\":\")\n",
    "    plt.figure(figsize=(20,10))\n",
    "    df[i].plot.box(vert=False,patch_artist=True)\n",
    "    plt.xlabel(i)\n",
    "    plt.show()\n",
    "    \n",
    "    iqr= df[i].describe()['75%']-df[i].describe()['25%']\n",
    "    right_lim=df[i].quantile(0.75)+1.5*iqr\n",
    "    leftt_lim=df[i].quantile(0.25)-1.5*iqr\n",
    "    total=len(df[i])\n",
    "    outlier=len(df[i][(df[i]<leftt_lim)|(df[i]>right_lim)])\n",
    "    per=outlier/total\n",
    "    print(\"left limit:{}\".format(leftt_lim))\n",
    "    print(\"right limit:{}\".format(right_lim))\n",
    "    print(\"iqr:{}\".format(iqr))\n",
    "    print('The total number of records are:{}'.format(len(df[i])))\n",
    "    print('The number of outliers are:',len(df[i][(df[i]<leftt_lim)|(df[i]>right_lim)]))\n",
    "    print('The total percentage of outliers are:',per*100,'%')\n",
    "\n",
    "    a=input(\"if left outlier type 'left' else 'right' else 'both' if no outliers then type 'no'\")\n",
    "    a=a.lower()\n",
    "    if a=='left':\n",
    "        lo=float(input('by what number do you want to replace'))\n",
    "        df[i]=[lo if val<leftt_lim else val for val in df[i]]\n",
    "    elif a=='right':\n",
    "        ro=float(input('by what number do you want to replace'))\n",
    "        df[i]=[ro if val>right_lim else val for val in df[i]]\n",
    "    elif a=='both':\n",
    "        lo=float(input('by what number do you want to replace'))\n",
    "        ro=float(input('by what number do you want to replace'))\n",
    "        df[i]=[ro if val>right_lim else val for val in df[i]]\n",
    "        df[i]=[lo if val<leftt_lim else val for val in df[i]]\n",
    "    elif a=='no':\n",
    "        pass\n",
    "    if a=='left' or a=='right' or a=='both':\n",
    "        plt.figure(figsize=(20,10))\n",
    "        df[i].plot.box(vert=False,patch_artist=True)\n",
    "        plt.xlabel(i)\n",
    "        plt.show()"
   ]
  },
  {
   "cell_type": "code",
   "execution_count": 16,
   "id": "7e0aa26d",
   "metadata": {
    "scrolled": true
   },
   "outputs": [
    {
     "name": "stdout",
     "output_type": "stream",
     "text": [
      "-------------------------------------------------------------------------------------------------------------------\n",
      "Fare:\n",
      "\n",
      "ANOVA:\n",
      "\n",
      "             df         sum_sq       mean_sq          F        PR(>F)\n",
      "Survived    1.0   37037.571704  37037.571704  99.706145  2.516197e-22\n",
      "Residual  889.0  330234.421181    371.467290        NaN           NaN \n",
      "\n",
      "Pvalue=2.516196789750214e-22\n",
      "\n",
      "TUKEY:\n",
      "\n",
      "\u001b[31m'Fare' is a 'good Predictor'\n",
      "\n",
      "Avg of this feature is not same for both survived group and not survived group\n",
      "\n",
      "we need to perform Tuckey as atleast one category is different\n",
      "\n",
      "\u001b[32m'Fare' is a 'good Predictor'\n",
      "\n",
      "Multiple Comparison of Means - Tukey HSD, FWER=0.05\n",
      "===================================================\n",
      "group1 group2 meandiff p-adj  lower   upper  reject\n",
      "---------------------------------------------------\n",
      "     0      1  13.2575   0.0 10.6517 15.8633   True\n",
      "--------------------------------------------------- \n",
      "\n",
      "-------------------------------------------------------------------------------------------------------------------\n",
      "Age:\n",
      "\n",
      "ANOVA:\n",
      "\n",
      "             df         sum_sq     mean_sq         F    PR(>F)\n",
      "Survived    1.0     348.619386  348.619386  1.989578  0.158735\n",
      "Residual  889.0  155773.065721  175.222796       NaN       NaN \n",
      "\n",
      "Pvalue=0.15873483170938635\n",
      "\n",
      "\u001b[31m'Age' is a 'bad Predictor'\n",
      "\n",
      "Avg of this feature is same for both survived group and not survived group\n",
      "\n",
      "p_val = 0.15873483170938635\n",
      "\n"
     ]
    }
   ],
   "source": [
    "from statsmodels.stats.multicomp import pairwise_tukeyhsd\n",
    "from statsmodels.formula.api import ols\n",
    "import statsmodels.api as smf\n",
    "import colorama\n",
    "from colorama import Fore\n",
    "\n",
    "for i in Continious:\n",
    "    print(\"-------------------------------------------------------------------------------------------------------------------\")\n",
    "    print(i+\":\\n\")\n",
    "    print('ANOVA:\\n')\n",
    "    mod=ols(i+'~Survived',data=df).fit()\n",
    "    aov_table=smf.stats.anova_lm(mod,type = 2)\n",
    "    print(aov_table,'\\n')\n",
    "    print('Pvalue={}\\n'.format(aov_table['PR(>F)'][0]))\n",
    "    p=aov_table['PR(>F)'][0]\n",
    "\n",
    "    if p>0.05:\n",
    "        print(Fore.RED +\"'{}' is a 'bad Predictor'\\n\".format(i))\n",
    "        print('Avg of this feature is same for both survived group and not survived group\\n')\n",
    "        print(\"p_val = {}\\n\".format(p))\n",
    "    else:\n",
    "        print('TUKEY:\\n')\n",
    "        print(Fore.RED +\"'{}' is a 'good Predictor'\\n\".format(i))\n",
    "        print('Avg of this feature is not same for both survived group and not survived group\\n')\n",
    "        print('we need to perform Tuckey as atleast one category is different\\n')\n",
    "        print(Fore.GREEN +\"'{}' is a 'good Predictor'\\n\".format(i))\n",
    "        tukey=pairwise_tukeyhsd(df[i],df.Survived,alpha=0.05)\n",
    "        print(tukey,'\\n')\n",
    "        \n",
    "       "
   ]
  },
  {
   "cell_type": "code",
   "execution_count": 17,
   "id": "9b681aa6",
   "metadata": {
    "scrolled": true
   },
   "outputs": [
    {
     "name": "stderr",
     "output_type": "stream",
     "text": [
      "C:\\Users\\MASHKOOR KHADER\\AppData\\Local\\Temp\\ipykernel_14536\\1998184320.py:1: FutureWarning: In a future version of pandas all arguments of DataFrame.drop except for the argument 'labels' will be keyword-only.\n",
      "  df.drop(['Age'],1,inplace=True)\n"
     ]
    }
   ],
   "source": [
    "df.drop(['Age'],1,inplace=True)"
   ]
  },
  {
   "cell_type": "code",
   "execution_count": 18,
   "id": "fae584b6",
   "metadata": {},
   "outputs": [],
   "source": [
    "Continious.remove('Age')"
   ]
  },
  {
   "cell_type": "code",
   "execution_count": 19,
   "id": "29d5c634",
   "metadata": {},
   "outputs": [
    {
     "data": {
      "text/html": [
       "<div>\n",
       "<style scoped>\n",
       "    .dataframe tbody tr th:only-of-type {\n",
       "        vertical-align: middle;\n",
       "    }\n",
       "\n",
       "    .dataframe tbody tr th {\n",
       "        vertical-align: top;\n",
       "    }\n",
       "\n",
       "    .dataframe thead th {\n",
       "        text-align: right;\n",
       "    }\n",
       "</style>\n",
       "<table border=\"1\" class=\"dataframe\">\n",
       "  <thead>\n",
       "    <tr style=\"text-align: right;\">\n",
       "      <th></th>\n",
       "      <th>PassengerId</th>\n",
       "      <th>Survived</th>\n",
       "      <th>Pclass</th>\n",
       "      <th>Name</th>\n",
       "      <th>Sex</th>\n",
       "      <th>SibSp</th>\n",
       "      <th>Parch</th>\n",
       "      <th>Ticket</th>\n",
       "      <th>Fare</th>\n",
       "      <th>Cabin</th>\n",
       "      <th>Embarked</th>\n",
       "    </tr>\n",
       "  </thead>\n",
       "  <tbody>\n",
       "    <tr>\n",
       "      <th>0</th>\n",
       "      <td>1</td>\n",
       "      <td>0</td>\n",
       "      <td>3</td>\n",
       "      <td>Braund, Mr. Owen Harris</td>\n",
       "      <td>male</td>\n",
       "      <td>1</td>\n",
       "      <td>0</td>\n",
       "      <td>A/5 21171</td>\n",
       "      <td>7.250</td>\n",
       "      <td>NaN</td>\n",
       "      <td>S</td>\n",
       "    </tr>\n",
       "    <tr>\n",
       "      <th>1</th>\n",
       "      <td>2</td>\n",
       "      <td>1</td>\n",
       "      <td>1</td>\n",
       "      <td>Cumings, Mrs. John Bradley (Florence Briggs Th...</td>\n",
       "      <td>female</td>\n",
       "      <td>1</td>\n",
       "      <td>0</td>\n",
       "      <td>PC 17599</td>\n",
       "      <td>65.000</td>\n",
       "      <td>C85</td>\n",
       "      <td>C</td>\n",
       "    </tr>\n",
       "    <tr>\n",
       "      <th>2</th>\n",
       "      <td>3</td>\n",
       "      <td>1</td>\n",
       "      <td>3</td>\n",
       "      <td>Heikkinen, Miss. Laina</td>\n",
       "      <td>female</td>\n",
       "      <td>0</td>\n",
       "      <td>0</td>\n",
       "      <td>STON/O2. 3101282</td>\n",
       "      <td>7.925</td>\n",
       "      <td>NaN</td>\n",
       "      <td>S</td>\n",
       "    </tr>\n",
       "    <tr>\n",
       "      <th>3</th>\n",
       "      <td>4</td>\n",
       "      <td>1</td>\n",
       "      <td>1</td>\n",
       "      <td>Futrelle, Mrs. Jacques Heath (Lily May Peel)</td>\n",
       "      <td>female</td>\n",
       "      <td>1</td>\n",
       "      <td>0</td>\n",
       "      <td>113803</td>\n",
       "      <td>53.100</td>\n",
       "      <td>C123</td>\n",
       "      <td>S</td>\n",
       "    </tr>\n",
       "    <tr>\n",
       "      <th>4</th>\n",
       "      <td>5</td>\n",
       "      <td>0</td>\n",
       "      <td>3</td>\n",
       "      <td>Allen, Mr. William Henry</td>\n",
       "      <td>male</td>\n",
       "      <td>0</td>\n",
       "      <td>0</td>\n",
       "      <td>373450</td>\n",
       "      <td>8.050</td>\n",
       "      <td>NaN</td>\n",
       "      <td>S</td>\n",
       "    </tr>\n",
       "    <tr>\n",
       "      <th>...</th>\n",
       "      <td>...</td>\n",
       "      <td>...</td>\n",
       "      <td>...</td>\n",
       "      <td>...</td>\n",
       "      <td>...</td>\n",
       "      <td>...</td>\n",
       "      <td>...</td>\n",
       "      <td>...</td>\n",
       "      <td>...</td>\n",
       "      <td>...</td>\n",
       "      <td>...</td>\n",
       "    </tr>\n",
       "    <tr>\n",
       "      <th>886</th>\n",
       "      <td>887</td>\n",
       "      <td>0</td>\n",
       "      <td>2</td>\n",
       "      <td>Montvila, Rev. Juozas</td>\n",
       "      <td>male</td>\n",
       "      <td>0</td>\n",
       "      <td>0</td>\n",
       "      <td>211536</td>\n",
       "      <td>13.000</td>\n",
       "      <td>NaN</td>\n",
       "      <td>S</td>\n",
       "    </tr>\n",
       "    <tr>\n",
       "      <th>887</th>\n",
       "      <td>888</td>\n",
       "      <td>1</td>\n",
       "      <td>1</td>\n",
       "      <td>Graham, Miss. Margaret Edith</td>\n",
       "      <td>female</td>\n",
       "      <td>0</td>\n",
       "      <td>0</td>\n",
       "      <td>112053</td>\n",
       "      <td>30.000</td>\n",
       "      <td>B42</td>\n",
       "      <td>S</td>\n",
       "    </tr>\n",
       "    <tr>\n",
       "      <th>888</th>\n",
       "      <td>889</td>\n",
       "      <td>0</td>\n",
       "      <td>3</td>\n",
       "      <td>Johnston, Miss. Catherine Helen \"Carrie\"</td>\n",
       "      <td>female</td>\n",
       "      <td>1</td>\n",
       "      <td>2</td>\n",
       "      <td>W./C. 6607</td>\n",
       "      <td>23.450</td>\n",
       "      <td>NaN</td>\n",
       "      <td>S</td>\n",
       "    </tr>\n",
       "    <tr>\n",
       "      <th>889</th>\n",
       "      <td>890</td>\n",
       "      <td>1</td>\n",
       "      <td>1</td>\n",
       "      <td>Behr, Mr. Karl Howell</td>\n",
       "      <td>male</td>\n",
       "      <td>0</td>\n",
       "      <td>0</td>\n",
       "      <td>111369</td>\n",
       "      <td>30.000</td>\n",
       "      <td>C148</td>\n",
       "      <td>C</td>\n",
       "    </tr>\n",
       "    <tr>\n",
       "      <th>890</th>\n",
       "      <td>891</td>\n",
       "      <td>0</td>\n",
       "      <td>3</td>\n",
       "      <td>Dooley, Mr. Patrick</td>\n",
       "      <td>male</td>\n",
       "      <td>0</td>\n",
       "      <td>0</td>\n",
       "      <td>370376</td>\n",
       "      <td>7.750</td>\n",
       "      <td>NaN</td>\n",
       "      <td>Q</td>\n",
       "    </tr>\n",
       "  </tbody>\n",
       "</table>\n",
       "<p>891 rows × 11 columns</p>\n",
       "</div>"
      ],
      "text/plain": [
       "     PassengerId  Survived  Pclass  \\\n",
       "0              1         0       3   \n",
       "1              2         1       1   \n",
       "2              3         1       3   \n",
       "3              4         1       1   \n",
       "4              5         0       3   \n",
       "..           ...       ...     ...   \n",
       "886          887         0       2   \n",
       "887          888         1       1   \n",
       "888          889         0       3   \n",
       "889          890         1       1   \n",
       "890          891         0       3   \n",
       "\n",
       "                                                  Name     Sex  SibSp  Parch  \\\n",
       "0                              Braund, Mr. Owen Harris    male      1      0   \n",
       "1    Cumings, Mrs. John Bradley (Florence Briggs Th...  female      1      0   \n",
       "2                               Heikkinen, Miss. Laina  female      0      0   \n",
       "3         Futrelle, Mrs. Jacques Heath (Lily May Peel)  female      1      0   \n",
       "4                             Allen, Mr. William Henry    male      0      0   \n",
       "..                                                 ...     ...    ...    ...   \n",
       "886                              Montvila, Rev. Juozas    male      0      0   \n",
       "887                       Graham, Miss. Margaret Edith  female      0      0   \n",
       "888           Johnston, Miss. Catherine Helen \"Carrie\"  female      1      2   \n",
       "889                              Behr, Mr. Karl Howell    male      0      0   \n",
       "890                                Dooley, Mr. Patrick    male      0      0   \n",
       "\n",
       "               Ticket    Fare Cabin Embarked  \n",
       "0           A/5 21171   7.250   NaN        S  \n",
       "1            PC 17599  65.000   C85        C  \n",
       "2    STON/O2. 3101282   7.925   NaN        S  \n",
       "3              113803  53.100  C123        S  \n",
       "4              373450   8.050   NaN        S  \n",
       "..                ...     ...   ...      ...  \n",
       "886            211536  13.000   NaN        S  \n",
       "887            112053  30.000   B42        S  \n",
       "888        W./C. 6607  23.450   NaN        S  \n",
       "889            111369  30.000  C148        C  \n",
       "890            370376   7.750   NaN        Q  \n",
       "\n",
       "[891 rows x 11 columns]"
      ]
     },
     "execution_count": 19,
     "metadata": {},
     "output_type": "execute_result"
    }
   ],
   "source": [
    "df"
   ]
  },
  {
   "cell_type": "markdown",
   "id": "cb37baaa",
   "metadata": {},
   "source": [
    "# Categorical variable :"
   ]
  },
  {
   "cell_type": "code",
   "execution_count": 20,
   "id": "b3568574",
   "metadata": {},
   "outputs": [],
   "source": [
    "categorical=list(set(df.columns)-set(Continious))"
   ]
  },
  {
   "cell_type": "code",
   "execution_count": 21,
   "id": "ee9120bd",
   "metadata": {},
   "outputs": [
    {
     "name": "stdout",
     "output_type": "stream",
     "text": [
      "---------------------------------------------------------------------------------------------------------------------\n",
      "Embarked:\n",
      "number of null in \"Embarked\" is : 2\n",
      "---------------------------------------------------------------------------------------------------------------------\n",
      "Pclass:\n",
      "number of null in \"Pclass\" is : 0\n",
      "---------------------------------------------------------------------------------------------------------------------\n",
      "Survived:\n",
      "number of null in \"Survived\" is : 0\n",
      "---------------------------------------------------------------------------------------------------------------------\n",
      "Ticket:\n",
      "number of null in \"Ticket\" is : 0\n",
      "---------------------------------------------------------------------------------------------------------------------\n",
      "Cabin:\n",
      "number of null in \"Cabin\" is : 687\n",
      "---------------------------------------------------------------------------------------------------------------------\n",
      "PassengerId:\n",
      "number of null in \"PassengerId\" is : 0\n",
      "---------------------------------------------------------------------------------------------------------------------\n",
      "Parch:\n",
      "number of null in \"Parch\" is : 0\n",
      "---------------------------------------------------------------------------------------------------------------------\n",
      "Sex:\n",
      "number of null in \"Sex\" is : 0\n",
      "---------------------------------------------------------------------------------------------------------------------\n",
      "Name:\n",
      "number of null in \"Name\" is : 0\n",
      "---------------------------------------------------------------------------------------------------------------------\n",
      "SibSp:\n",
      "number of null in \"SibSp\" is : 0\n"
     ]
    }
   ],
   "source": [
    "for i in categorical:\n",
    "    print('---------------------------------------------------------------------------------------------------------------------')\n",
    "    print(i+\":\")\n",
    "    print('number of null in \"{}\" is :'.format(i),df[i].isnull().sum())"
   ]
  },
  {
   "cell_type": "code",
   "execution_count": 22,
   "id": "d69e5254",
   "metadata": {},
   "outputs": [],
   "source": [
    "df.drop('Cabin',axis=1,inplace=True)"
   ]
  },
  {
   "cell_type": "code",
   "execution_count": 23,
   "id": "abc61c5f",
   "metadata": {},
   "outputs": [],
   "source": [
    "categorical.remove('Cabin')"
   ]
  },
  {
   "cell_type": "code",
   "execution_count": 24,
   "id": "a9bd07fb",
   "metadata": {},
   "outputs": [],
   "source": [
    "df.dropna(inplace=True)"
   ]
  },
  {
   "cell_type": "code",
   "execution_count": 25,
   "id": "7382e951",
   "metadata": {},
   "outputs": [
    {
     "data": {
      "text/plain": [
       "PassengerId    0\n",
       "Survived       0\n",
       "Pclass         0\n",
       "Name           0\n",
       "Sex            0\n",
       "SibSp          0\n",
       "Parch          0\n",
       "Ticket         0\n",
       "Fare           0\n",
       "Embarked       0\n",
       "dtype: int64"
      ]
     },
     "execution_count": 25,
     "metadata": {},
     "output_type": "execute_result"
    }
   ],
   "source": [
    "df.isna().sum()"
   ]
  },
  {
   "cell_type": "code",
   "execution_count": 26,
   "id": "2686fbe7",
   "metadata": {},
   "outputs": [
    {
     "data": {
      "text/plain": [
       "['Embarked',\n",
       " 'Pclass',\n",
       " 'Survived',\n",
       " 'Ticket',\n",
       " 'PassengerId',\n",
       " 'Parch',\n",
       " 'Sex',\n",
       " 'Name',\n",
       " 'SibSp']"
      ]
     },
     "execution_count": 26,
     "metadata": {},
     "output_type": "execute_result"
    }
   ],
   "source": [
    "categorical"
   ]
  },
  {
   "cell_type": "code",
   "execution_count": 27,
   "id": "be38e79d",
   "metadata": {},
   "outputs": [
    {
     "name": "stdout",
     "output_type": "stream",
     "text": [
      "Embarked:\n"
     ]
    },
    {
     "data": {
      "image/png": "[encoded data removed]",
      "text/plain": [
       "<Figure size 1440x720 with 1 Axes>"
      ]
     },
     "metadata": {
      "needs_background": "light"
     },
     "output_type": "display_data"
    },
    {
     "name": "stdout",
     "output_type": "stream",
     "text": [
      "\u001b[32m'Embarked' is a 'Good Predictor'\n",
      "p_val = 1.769922284120912e-06\n",
      "\n",
      "Pclass:\n"
     ]
    },
    {
     "data": {
      "image/png": "[encoded data removed]",
      "text/plain": [
       "<Figure size 1440x720 with 1 Axes>"
      ]
     },
     "metadata": {
      "needs_background": "light"
     },
     "output_type": "display_data"
    },
    {
     "name": "stdout",
     "output_type": "stream",
     "text": [
      "\u001b[32m'Pclass' is a 'Good Predictor'\n",
      "p_val = 1.1813624785477922e-22\n",
      "\n",
      "Survived:\n"
     ]
    },
    {
     "data": {
      "image/png": "[encoded data removed]",
      "text/plain": [
       "<Figure size 1440x720 with 1 Axes>"
      ]
     },
     "metadata": {
      "needs_background": "light"
     },
     "output_type": "display_data"
    },
    {
     "name": "stdout",
     "output_type": "stream",
     "text": [
      "\u001b[32m'Survived' is a 'Good Predictor'\n",
      "p_val = 2.4160438987070603e-195\n",
      "\n",
      "Ticket:\n"
     ]
    },
    {
     "data": {
      "image/png": "[encoded data removed]",
      "text/plain": [
       "<Figure size 1440x720 with 1 Axes>"
      ]
     },
     "metadata": {
      "needs_background": "light"
     },
     "output_type": "display_data"
    },
    {
     "name": "stdout",
     "output_type": "stream",
     "text": [
      "\u001b[32m'Ticket' is a 'Good Predictor'\n",
      "p_val = 0.012392920285386588\n",
      "\n",
      "PassengerId:\n"
     ]
    },
    {
     "data": {
      "image/png": "[encoded data removed]",
      "text/plain": [
       "<Figure size 1440x720 with 1 Axes>"
      ]
     },
     "metadata": {
      "needs_background": "light"
     },
     "output_type": "display_data"
    },
    {
     "name": "stdout",
     "output_type": "stream",
     "text": [
      "\u001b[31m'PassengerId' is a 'bad Predictor'\n",
      "p_val = 0.48423044114425606\n",
      "\n",
      "Parch:\n"
     ]
    },
    {
     "name": "stderr",
     "output_type": "stream",
     "text": [
      "C:\\Users\\MASHKOOR KHADER\\AppData\\Local\\Temp\\ipykernel_14536\\1268197002.py:17: FutureWarning: In a future version of pandas all arguments of DataFrame.drop except for the argument 'labels' will be keyword-only.\n",
      "  df.drop([i],1,inplace=True)\n"
     ]
    },
    {
     "data": {
      "image/png": "[encoded data removed]",
      "text/plain": [
       "<Figure size 1440x720 with 1 Axes>"
      ]
     },
     "metadata": {
      "needs_background": "light"
     },
     "output_type": "display_data"
    },
    {
     "name": "stdout",
     "output_type": "stream",
     "text": [
      "\u001b[32m'Parch' is a 'Good Predictor'\n",
      "p_val = 7.896496976051105e-05\n",
      "\n",
      "Sex:\n"
     ]
    },
    {
     "data": {
      "image/png": "[encoded data removed]",
      "text/plain": [
       "<Figure size 1440x720 with 1 Axes>"
      ]
     },
     "metadata": {
      "needs_background": "light"
     },
     "output_type": "display_data"
    },
    {
     "name": "stdout",
     "output_type": "stream",
     "text": [
      "\u001b[32m'Sex' is a 'Good Predictor'\n",
      "p_val = 1.1739578304122022e-58\n",
      "\n",
      "Name:\n"
     ]
    },
    {
     "data": {
      "image/png": "[encoded data removed]",
      "text/plain": [
       "<Figure size 1440x720 with 1 Axes>"
      ]
     },
     "metadata": {
      "needs_background": "light"
     },
     "output_type": "display_data"
    },
    {
     "name": "stdout",
     "output_type": "stream",
     "text": [
      "\u001b[31m'Name' is a 'bad Predictor'\n",
      "p_val = 0.48423044114425606\n",
      "\n",
      "SibSp:\n"
     ]
    },
    {
     "name": "stderr",
     "output_type": "stream",
     "text": [
      "C:\\Users\\MASHKOOR KHADER\\AppData\\Local\\Temp\\ipykernel_14536\\1268197002.py:17: FutureWarning: In a future version of pandas all arguments of DataFrame.drop except for the argument 'labels' will be keyword-only.\n",
      "  df.drop([i],1,inplace=True)\n"
     ]
    },
    {
     "data": {
      "image/png": "[encoded data removed]",
      "text/plain": [
       "<Figure size 1440x720 with 1 Axes>"
      ]
     },
     "metadata": {
      "needs_background": "light"
     },
     "output_type": "display_data"
    },
    {
     "name": "stdout",
     "output_type": "stream",
     "text": [
      "\u001b[32m'SibSp' is a 'Good Predictor'\n",
      "p_val = 1.262013627567703e-06\n",
      "\n"
     ]
    }
   ],
   "source": [
    "import seaborn as sns\n",
    "import matplotlib.pyplot as plt\n",
    "from scipy.stats import chi2_contingency\n",
    "import colorama\n",
    "from colorama import Fore\n",
    "\n",
    "for i in categorical:\n",
    "    print(i+\":\")\n",
    "    plt.figure(figsize=(20,10))\n",
    "    sns.countplot(x=i,data=df,hue='Survived')\n",
    "    plt.show()\n",
    "    a=np.array(pd.crosstab(df.Survived,df[i]))\n",
    "    (stats,p,dof,_)=chi2_contingency(a,correction=False)\n",
    "    if p>0.05:\n",
    "        print(Fore.RED +\"'{}' is a 'bad Predictor'\".format(i))\n",
    "        print(\"p_val = {}\\n\".format(p))\n",
    "        df.drop([i],1,inplace=True)\n",
    "    else:\n",
    "        print(Fore.GREEN +\"'{}' is a 'Good Predictor'\".format(i))\n",
    "        print(\"p_val = {}\\n\".format(p))"
   ]
  },
  {
   "cell_type": "code",
   "execution_count": 28,
   "id": "8db8351b",
   "metadata": {},
   "outputs": [
    {
     "name": "stdout",
     "output_type": "stream",
     "text": [
      "<class 'pandas.core.frame.DataFrame'>\n",
      "Int64Index: 889 entries, 0 to 890\n",
      "Data columns (total 8 columns):\n",
      " #   Column    Non-Null Count  Dtype  \n",
      "---  ------    --------------  -----  \n",
      " 0   Survived  889 non-null    int64  \n",
      " 1   Pclass    889 non-null    int64  \n",
      " 2   Sex       889 non-null    object \n",
      " 3   SibSp     889 non-null    int64  \n",
      " 4   Parch     889 non-null    int64  \n",
      " 5   Ticket    889 non-null    object \n",
      " 6   Fare      889 non-null    float64\n",
      " 7   Embarked  889 non-null    object \n",
      "dtypes: float64(1), int64(4), object(3)\n",
      "memory usage: 62.5+ KB\n"
     ]
    }
   ],
   "source": [
    "df.info()"
   ]
  },
  {
   "cell_type": "code",
   "execution_count": 29,
   "id": "fb89c1ec",
   "metadata": {},
   "outputs": [
    {
     "data": {
      "text/html": [
       "<div>\n",
       "<style scoped>\n",
       "    .dataframe tbody tr th:only-of-type {\n",
       "        vertical-align: middle;\n",
       "    }\n",
       "\n",
       "    .dataframe tbody tr th {\n",
       "        vertical-align: top;\n",
       "    }\n",
       "\n",
       "    .dataframe thead th {\n",
       "        text-align: right;\n",
       "    }\n",
       "</style>\n",
       "<table border=\"1\" class=\"dataframe\">\n",
       "  <thead>\n",
       "    <tr style=\"text-align: right;\">\n",
       "      <th></th>\n",
       "      <th>Survived</th>\n",
       "      <th>Pclass</th>\n",
       "      <th>Sex</th>\n",
       "      <th>SibSp</th>\n",
       "      <th>Parch</th>\n",
       "      <th>Ticket</th>\n",
       "      <th>Fare</th>\n",
       "      <th>Embarked</th>\n",
       "    </tr>\n",
       "  </thead>\n",
       "  <tbody>\n",
       "    <tr>\n",
       "      <th>0</th>\n",
       "      <td>0</td>\n",
       "      <td>3</td>\n",
       "      <td>male</td>\n",
       "      <td>1</td>\n",
       "      <td>0</td>\n",
       "      <td>A/5 21171</td>\n",
       "      <td>7.250</td>\n",
       "      <td>S</td>\n",
       "    </tr>\n",
       "    <tr>\n",
       "      <th>1</th>\n",
       "      <td>1</td>\n",
       "      <td>1</td>\n",
       "      <td>female</td>\n",
       "      <td>1</td>\n",
       "      <td>0</td>\n",
       "      <td>PC 17599</td>\n",
       "      <td>65.000</td>\n",
       "      <td>C</td>\n",
       "    </tr>\n",
       "    <tr>\n",
       "      <th>2</th>\n",
       "      <td>1</td>\n",
       "      <td>3</td>\n",
       "      <td>female</td>\n",
       "      <td>0</td>\n",
       "      <td>0</td>\n",
       "      <td>STON/O2. 3101282</td>\n",
       "      <td>7.925</td>\n",
       "      <td>S</td>\n",
       "    </tr>\n",
       "    <tr>\n",
       "      <th>3</th>\n",
       "      <td>1</td>\n",
       "      <td>1</td>\n",
       "      <td>female</td>\n",
       "      <td>1</td>\n",
       "      <td>0</td>\n",
       "      <td>113803</td>\n",
       "      <td>53.100</td>\n",
       "      <td>S</td>\n",
       "    </tr>\n",
       "    <tr>\n",
       "      <th>4</th>\n",
       "      <td>0</td>\n",
       "      <td>3</td>\n",
       "      <td>male</td>\n",
       "      <td>0</td>\n",
       "      <td>0</td>\n",
       "      <td>373450</td>\n",
       "      <td>8.050</td>\n",
       "      <td>S</td>\n",
       "    </tr>\n",
       "  </tbody>\n",
       "</table>\n",
       "</div>"
      ],
      "text/plain": [
       "   Survived  Pclass     Sex  SibSp  Parch            Ticket    Fare Embarked\n",
       "0         0       3    male      1      0         A/5 21171   7.250        S\n",
       "1         1       1  female      1      0          PC 17599  65.000        C\n",
       "2         1       3  female      0      0  STON/O2. 3101282   7.925        S\n",
       "3         1       1  female      1      0            113803  53.100        S\n",
       "4         0       3    male      0      0            373450   8.050        S"
      ]
     },
     "execution_count": 29,
     "metadata": {},
     "output_type": "execute_result"
    }
   ],
   "source": [
    "df.head()"
   ]
  },
  {
   "cell_type": "code",
   "execution_count": 30,
   "id": "49a9cb2d",
   "metadata": {},
   "outputs": [],
   "source": [
    "df_sex=pd.get_dummies(df.Sex,prefix='sex',drop_first=True)"
   ]
  },
  {
   "cell_type": "code",
   "execution_count": 31,
   "id": "abb2453c",
   "metadata": {},
   "outputs": [],
   "source": [
    "df=pd.concat([df,df_sex],axis=1)"
   ]
  },
  {
   "cell_type": "code",
   "execution_count": 32,
   "id": "cd4147cf",
   "metadata": {},
   "outputs": [
    {
     "data": {
      "text/html": [
       "<div>\n",
       "<style scoped>\n",
       "    .dataframe tbody tr th:only-of-type {\n",
       "        vertical-align: middle;\n",
       "    }\n",
       "\n",
       "    .dataframe tbody tr th {\n",
       "        vertical-align: top;\n",
       "    }\n",
       "\n",
       "    .dataframe thead th {\n",
       "        text-align: right;\n",
       "    }\n",
       "</style>\n",
       "<table border=\"1\" class=\"dataframe\">\n",
       "  <thead>\n",
       "    <tr style=\"text-align: right;\">\n",
       "      <th></th>\n",
       "      <th>Survived</th>\n",
       "      <th>Pclass</th>\n",
       "      <th>Sex</th>\n",
       "      <th>SibSp</th>\n",
       "      <th>Parch</th>\n",
       "      <th>Ticket</th>\n",
       "      <th>Fare</th>\n",
       "      <th>Embarked</th>\n",
       "      <th>sex_male</th>\n",
       "    </tr>\n",
       "  </thead>\n",
       "  <tbody>\n",
       "    <tr>\n",
       "      <th>0</th>\n",
       "      <td>0</td>\n",
       "      <td>3</td>\n",
       "      <td>male</td>\n",
       "      <td>1</td>\n",
       "      <td>0</td>\n",
       "      <td>A/5 21171</td>\n",
       "      <td>7.250</td>\n",
       "      <td>S</td>\n",
       "      <td>1</td>\n",
       "    </tr>\n",
       "    <tr>\n",
       "      <th>1</th>\n",
       "      <td>1</td>\n",
       "      <td>1</td>\n",
       "      <td>female</td>\n",
       "      <td>1</td>\n",
       "      <td>0</td>\n",
       "      <td>PC 17599</td>\n",
       "      <td>65.000</td>\n",
       "      <td>C</td>\n",
       "      <td>0</td>\n",
       "    </tr>\n",
       "    <tr>\n",
       "      <th>2</th>\n",
       "      <td>1</td>\n",
       "      <td>3</td>\n",
       "      <td>female</td>\n",
       "      <td>0</td>\n",
       "      <td>0</td>\n",
       "      <td>STON/O2. 3101282</td>\n",
       "      <td>7.925</td>\n",
       "      <td>S</td>\n",
       "      <td>0</td>\n",
       "    </tr>\n",
       "    <tr>\n",
       "      <th>3</th>\n",
       "      <td>1</td>\n",
       "      <td>1</td>\n",
       "      <td>female</td>\n",
       "      <td>1</td>\n",
       "      <td>0</td>\n",
       "      <td>113803</td>\n",
       "      <td>53.100</td>\n",
       "      <td>S</td>\n",
       "      <td>0</td>\n",
       "    </tr>\n",
       "    <tr>\n",
       "      <th>4</th>\n",
       "      <td>0</td>\n",
       "      <td>3</td>\n",
       "      <td>male</td>\n",
       "      <td>0</td>\n",
       "      <td>0</td>\n",
       "      <td>373450</td>\n",
       "      <td>8.050</td>\n",
       "      <td>S</td>\n",
       "      <td>1</td>\n",
       "    </tr>\n",
       "    <tr>\n",
       "      <th>...</th>\n",
       "      <td>...</td>\n",
       "      <td>...</td>\n",
       "      <td>...</td>\n",
       "      <td>...</td>\n",
       "      <td>...</td>\n",
       "      <td>...</td>\n",
       "      <td>...</td>\n",
       "      <td>...</td>\n",
       "      <td>...</td>\n",
       "    </tr>\n",
       "    <tr>\n",
       "      <th>886</th>\n",
       "      <td>0</td>\n",
       "      <td>2</td>\n",
       "      <td>male</td>\n",
       "      <td>0</td>\n",
       "      <td>0</td>\n",
       "      <td>211536</td>\n",
       "      <td>13.000</td>\n",
       "      <td>S</td>\n",
       "      <td>1</td>\n",
       "    </tr>\n",
       "    <tr>\n",
       "      <th>887</th>\n",
       "      <td>1</td>\n",
       "      <td>1</td>\n",
       "      <td>female</td>\n",
       "      <td>0</td>\n",
       "      <td>0</td>\n",
       "      <td>112053</td>\n",
       "      <td>30.000</td>\n",
       "      <td>S</td>\n",
       "      <td>0</td>\n",
       "    </tr>\n",
       "    <tr>\n",
       "      <th>888</th>\n",
       "      <td>0</td>\n",
       "      <td>3</td>\n",
       "      <td>female</td>\n",
       "      <td>1</td>\n",
       "      <td>2</td>\n",
       "      <td>W./C. 6607</td>\n",
       "      <td>23.450</td>\n",
       "      <td>S</td>\n",
       "      <td>0</td>\n",
       "    </tr>\n",
       "    <tr>\n",
       "      <th>889</th>\n",
       "      <td>1</td>\n",
       "      <td>1</td>\n",
       "      <td>male</td>\n",
       "      <td>0</td>\n",
       "      <td>0</td>\n",
       "      <td>111369</td>\n",
       "      <td>30.000</td>\n",
       "      <td>C</td>\n",
       "      <td>1</td>\n",
       "    </tr>\n",
       "    <tr>\n",
       "      <th>890</th>\n",
       "      <td>0</td>\n",
       "      <td>3</td>\n",
       "      <td>male</td>\n",
       "      <td>0</td>\n",
       "      <td>0</td>\n",
       "      <td>370376</td>\n",
       "      <td>7.750</td>\n",
       "      <td>Q</td>\n",
       "      <td>1</td>\n",
       "    </tr>\n",
       "  </tbody>\n",
       "</table>\n",
       "<p>889 rows × 9 columns</p>\n",
       "</div>"
      ],
      "text/plain": [
       "     Survived  Pclass     Sex  SibSp  Parch            Ticket    Fare  \\\n",
       "0           0       3    male      1      0         A/5 21171   7.250   \n",
       "1           1       1  female      1      0          PC 17599  65.000   \n",
       "2           1       3  female      0      0  STON/O2. 3101282   7.925   \n",
       "3           1       1  female      1      0            113803  53.100   \n",
       "4           0       3    male      0      0            373450   8.050   \n",
       "..        ...     ...     ...    ...    ...               ...     ...   \n",
       "886         0       2    male      0      0            211536  13.000   \n",
       "887         1       1  female      0      0            112053  30.000   \n",
       "888         0       3  female      1      2        W./C. 6607  23.450   \n",
       "889         1       1    male      0      0            111369  30.000   \n",
       "890         0       3    male      0      0            370376   7.750   \n",
       "\n",
       "    Embarked  sex_male  \n",
       "0          S         1  \n",
       "1          C         0  \n",
       "2          S         0  \n",
       "3          S         0  \n",
       "4          S         1  \n",
       "..       ...       ...  \n",
       "886        S         1  \n",
       "887        S         0  \n",
       "888        S         0  \n",
       "889        C         1  \n",
       "890        Q         1  \n",
       "\n",
       "[889 rows x 9 columns]"
      ]
     },
     "execution_count": 32,
     "metadata": {},
     "output_type": "execute_result"
    }
   ],
   "source": [
    "df"
   ]
  },
  {
   "cell_type": "code",
   "execution_count": 33,
   "id": "dac0f872",
   "metadata": {},
   "outputs": [
    {
     "name": "stderr",
     "output_type": "stream",
     "text": [
      "C:\\Users\\MASHKOOR KHADER\\AppData\\Local\\Temp\\ipykernel_14536\\771279747.py:1: FutureWarning: In a future version of pandas all arguments of DataFrame.drop except for the argument 'labels' will be keyword-only.\n",
      "  df.drop('Sex',1,inplace=True)\n"
     ]
    }
   ],
   "source": [
    "df.drop('Sex',1,inplace=True)"
   ]
  },
  {
   "cell_type": "code",
   "execution_count": 34,
   "id": "48916536",
   "metadata": {},
   "outputs": [
    {
     "name": "stderr",
     "output_type": "stream",
     "text": [
      "C:\\Users\\MASHKOOR KHADER\\AppData\\Local\\Temp\\ipykernel_14536\\1667937660.py:1: FutureWarning: In a future version of pandas all arguments of DataFrame.drop except for the argument 'labels' will be keyword-only.\n",
      "  df.drop('Ticket',1,inplace=True)\n"
     ]
    }
   ],
   "source": [
    "df.drop('Ticket',1,inplace=True)"
   ]
  },
  {
   "cell_type": "code",
   "execution_count": 35,
   "id": "c9b3a130",
   "metadata": {},
   "outputs": [],
   "source": [
    "df_embarked=pd.get_dummies(df.Embarked,prefix='Embarked',drop_first=True)"
   ]
  },
  {
   "cell_type": "code",
   "execution_count": 36,
   "id": "68d0daa5",
   "metadata": {},
   "outputs": [
    {
     "name": "stderr",
     "output_type": "stream",
     "text": [
      "C:\\Users\\MASHKOOR KHADER\\AppData\\Local\\Temp\\ipykernel_14536\\2247168866.py:1: FutureWarning: In a future version of pandas all arguments of concat except for the argument 'objs' will be keyword-only.\n",
      "  df=pd.concat([df,df_embarked],1)\n"
     ]
    }
   ],
   "source": [
    "df=pd.concat([df,df_embarked],1)"
   ]
  },
  {
   "cell_type": "code",
   "execution_count": 37,
   "id": "d43b44b8",
   "metadata": {},
   "outputs": [
    {
     "data": {
      "text/html": [
       "<div>\n",
       "<style scoped>\n",
       "    .dataframe tbody tr th:only-of-type {\n",
       "        vertical-align: middle;\n",
       "    }\n",
       "\n",
       "    .dataframe tbody tr th {\n",
       "        vertical-align: top;\n",
       "    }\n",
       "\n",
       "    .dataframe thead th {\n",
       "        text-align: right;\n",
       "    }\n",
       "</style>\n",
       "<table border=\"1\" class=\"dataframe\">\n",
       "  <thead>\n",
       "    <tr style=\"text-align: right;\">\n",
       "      <th></th>\n",
       "      <th>Survived</th>\n",
       "      <th>Pclass</th>\n",
       "      <th>SibSp</th>\n",
       "      <th>Parch</th>\n",
       "      <th>Fare</th>\n",
       "      <th>Embarked</th>\n",
       "      <th>sex_male</th>\n",
       "      <th>Embarked_Q</th>\n",
       "      <th>Embarked_S</th>\n",
       "    </tr>\n",
       "  </thead>\n",
       "  <tbody>\n",
       "    <tr>\n",
       "      <th>0</th>\n",
       "      <td>0</td>\n",
       "      <td>3</td>\n",
       "      <td>1</td>\n",
       "      <td>0</td>\n",
       "      <td>7.250</td>\n",
       "      <td>S</td>\n",
       "      <td>1</td>\n",
       "      <td>0</td>\n",
       "      <td>1</td>\n",
       "    </tr>\n",
       "    <tr>\n",
       "      <th>1</th>\n",
       "      <td>1</td>\n",
       "      <td>1</td>\n",
       "      <td>1</td>\n",
       "      <td>0</td>\n",
       "      <td>65.000</td>\n",
       "      <td>C</td>\n",
       "      <td>0</td>\n",
       "      <td>0</td>\n",
       "      <td>0</td>\n",
       "    </tr>\n",
       "    <tr>\n",
       "      <th>2</th>\n",
       "      <td>1</td>\n",
       "      <td>3</td>\n",
       "      <td>0</td>\n",
       "      <td>0</td>\n",
       "      <td>7.925</td>\n",
       "      <td>S</td>\n",
       "      <td>0</td>\n",
       "      <td>0</td>\n",
       "      <td>1</td>\n",
       "    </tr>\n",
       "    <tr>\n",
       "      <th>3</th>\n",
       "      <td>1</td>\n",
       "      <td>1</td>\n",
       "      <td>1</td>\n",
       "      <td>0</td>\n",
       "      <td>53.100</td>\n",
       "      <td>S</td>\n",
       "      <td>0</td>\n",
       "      <td>0</td>\n",
       "      <td>1</td>\n",
       "    </tr>\n",
       "    <tr>\n",
       "      <th>4</th>\n",
       "      <td>0</td>\n",
       "      <td>3</td>\n",
       "      <td>0</td>\n",
       "      <td>0</td>\n",
       "      <td>8.050</td>\n",
       "      <td>S</td>\n",
       "      <td>1</td>\n",
       "      <td>0</td>\n",
       "      <td>1</td>\n",
       "    </tr>\n",
       "    <tr>\n",
       "      <th>...</th>\n",
       "      <td>...</td>\n",
       "      <td>...</td>\n",
       "      <td>...</td>\n",
       "      <td>...</td>\n",
       "      <td>...</td>\n",
       "      <td>...</td>\n",
       "      <td>...</td>\n",
       "      <td>...</td>\n",
       "      <td>...</td>\n",
       "    </tr>\n",
       "    <tr>\n",
       "      <th>886</th>\n",
       "      <td>0</td>\n",
       "      <td>2</td>\n",
       "      <td>0</td>\n",
       "      <td>0</td>\n",
       "      <td>13.000</td>\n",
       "      <td>S</td>\n",
       "      <td>1</td>\n",
       "      <td>0</td>\n",
       "      <td>1</td>\n",
       "    </tr>\n",
       "    <tr>\n",
       "      <th>887</th>\n",
       "      <td>1</td>\n",
       "      <td>1</td>\n",
       "      <td>0</td>\n",
       "      <td>0</td>\n",
       "      <td>30.000</td>\n",
       "      <td>S</td>\n",
       "      <td>0</td>\n",
       "      <td>0</td>\n",
       "      <td>1</td>\n",
       "    </tr>\n",
       "    <tr>\n",
       "      <th>888</th>\n",
       "      <td>0</td>\n",
       "      <td>3</td>\n",
       "      <td>1</td>\n",
       "      <td>2</td>\n",
       "      <td>23.450</td>\n",
       "      <td>S</td>\n",
       "      <td>0</td>\n",
       "      <td>0</td>\n",
       "      <td>1</td>\n",
       "    </tr>\n",
       "    <tr>\n",
       "      <th>889</th>\n",
       "      <td>1</td>\n",
       "      <td>1</td>\n",
       "      <td>0</td>\n",
       "      <td>0</td>\n",
       "      <td>30.000</td>\n",
       "      <td>C</td>\n",
       "      <td>1</td>\n",
       "      <td>0</td>\n",
       "      <td>0</td>\n",
       "    </tr>\n",
       "    <tr>\n",
       "      <th>890</th>\n",
       "      <td>0</td>\n",
       "      <td>3</td>\n",
       "      <td>0</td>\n",
       "      <td>0</td>\n",
       "      <td>7.750</td>\n",
       "      <td>Q</td>\n",
       "      <td>1</td>\n",
       "      <td>1</td>\n",
       "      <td>0</td>\n",
       "    </tr>\n",
       "  </tbody>\n",
       "</table>\n",
       "<p>889 rows × 9 columns</p>\n",
       "</div>"
      ],
      "text/plain": [
       "     Survived  Pclass  SibSp  Parch    Fare Embarked  sex_male  Embarked_Q  \\\n",
       "0           0       3      1      0   7.250        S         1           0   \n",
       "1           1       1      1      0  65.000        C         0           0   \n",
       "2           1       3      0      0   7.925        S         0           0   \n",
       "3           1       1      1      0  53.100        S         0           0   \n",
       "4           0       3      0      0   8.050        S         1           0   \n",
       "..        ...     ...    ...    ...     ...      ...       ...         ...   \n",
       "886         0       2      0      0  13.000        S         1           0   \n",
       "887         1       1      0      0  30.000        S         0           0   \n",
       "888         0       3      1      2  23.450        S         0           0   \n",
       "889         1       1      0      0  30.000        C         1           0   \n",
       "890         0       3      0      0   7.750        Q         1           1   \n",
       "\n",
       "     Embarked_S  \n",
       "0             1  \n",
       "1             0  \n",
       "2             1  \n",
       "3             1  \n",
       "4             1  \n",
       "..          ...  \n",
       "886           1  \n",
       "887           1  \n",
       "888           1  \n",
       "889           0  \n",
       "890           0  \n",
       "\n",
       "[889 rows x 9 columns]"
      ]
     },
     "execution_count": 37,
     "metadata": {},
     "output_type": "execute_result"
    }
   ],
   "source": [
    "df"
   ]
  },
  {
   "cell_type": "code",
   "execution_count": 38,
   "id": "1a0cce01",
   "metadata": {},
   "outputs": [
    {
     "name": "stderr",
     "output_type": "stream",
     "text": [
      "C:\\Users\\MASHKOOR KHADER\\AppData\\Local\\Temp\\ipykernel_14536\\781827158.py:1: FutureWarning: In a future version of pandas all arguments of DataFrame.drop except for the argument 'labels' will be keyword-only.\n",
      "  df.drop('Embarked',1,inplace=True)\n"
     ]
    }
   ],
   "source": [
    "df.drop('Embarked',1,inplace=True)"
   ]
  },
  {
   "cell_type": "code",
   "execution_count": 39,
   "id": "a71b9e8c",
   "metadata": {},
   "outputs": [
    {
     "data": {
      "text/html": [
       "<div>\n",
       "<style scoped>\n",
       "    .dataframe tbody tr th:only-of-type {\n",
       "        vertical-align: middle;\n",
       "    }\n",
       "\n",
       "    .dataframe tbody tr th {\n",
       "        vertical-align: top;\n",
       "    }\n",
       "\n",
       "    .dataframe thead th {\n",
       "        text-align: right;\n",
       "    }\n",
       "</style>\n",
       "<table border=\"1\" class=\"dataframe\">\n",
       "  <thead>\n",
       "    <tr style=\"text-align: right;\">\n",
       "      <th></th>\n",
       "      <th>Survived</th>\n",
       "      <th>Pclass</th>\n",
       "      <th>SibSp</th>\n",
       "      <th>Parch</th>\n",
       "      <th>Fare</th>\n",
       "      <th>sex_male</th>\n",
       "      <th>Embarked_Q</th>\n",
       "      <th>Embarked_S</th>\n",
       "    </tr>\n",
       "  </thead>\n",
       "  <tbody>\n",
       "    <tr>\n",
       "      <th>0</th>\n",
       "      <td>0</td>\n",
       "      <td>3</td>\n",
       "      <td>1</td>\n",
       "      <td>0</td>\n",
       "      <td>7.250</td>\n",
       "      <td>1</td>\n",
       "      <td>0</td>\n",
       "      <td>1</td>\n",
       "    </tr>\n",
       "    <tr>\n",
       "      <th>1</th>\n",
       "      <td>1</td>\n",
       "      <td>1</td>\n",
       "      <td>1</td>\n",
       "      <td>0</td>\n",
       "      <td>65.000</td>\n",
       "      <td>0</td>\n",
       "      <td>0</td>\n",
       "      <td>0</td>\n",
       "    </tr>\n",
       "    <tr>\n",
       "      <th>2</th>\n",
       "      <td>1</td>\n",
       "      <td>3</td>\n",
       "      <td>0</td>\n",
       "      <td>0</td>\n",
       "      <td>7.925</td>\n",
       "      <td>0</td>\n",
       "      <td>0</td>\n",
       "      <td>1</td>\n",
       "    </tr>\n",
       "    <tr>\n",
       "      <th>3</th>\n",
       "      <td>1</td>\n",
       "      <td>1</td>\n",
       "      <td>1</td>\n",
       "      <td>0</td>\n",
       "      <td>53.100</td>\n",
       "      <td>0</td>\n",
       "      <td>0</td>\n",
       "      <td>1</td>\n",
       "    </tr>\n",
       "    <tr>\n",
       "      <th>4</th>\n",
       "      <td>0</td>\n",
       "      <td>3</td>\n",
       "      <td>0</td>\n",
       "      <td>0</td>\n",
       "      <td>8.050</td>\n",
       "      <td>1</td>\n",
       "      <td>0</td>\n",
       "      <td>1</td>\n",
       "    </tr>\n",
       "    <tr>\n",
       "      <th>...</th>\n",
       "      <td>...</td>\n",
       "      <td>...</td>\n",
       "      <td>...</td>\n",
       "      <td>...</td>\n",
       "      <td>...</td>\n",
       "      <td>...</td>\n",
       "      <td>...</td>\n",
       "      <td>...</td>\n",
       "    </tr>\n",
       "    <tr>\n",
       "      <th>886</th>\n",
       "      <td>0</td>\n",
       "      <td>2</td>\n",
       "      <td>0</td>\n",
       "      <td>0</td>\n",
       "      <td>13.000</td>\n",
       "      <td>1</td>\n",
       "      <td>0</td>\n",
       "      <td>1</td>\n",
       "    </tr>\n",
       "    <tr>\n",
       "      <th>887</th>\n",
       "      <td>1</td>\n",
       "      <td>1</td>\n",
       "      <td>0</td>\n",
       "      <td>0</td>\n",
       "      <td>30.000</td>\n",
       "      <td>0</td>\n",
       "      <td>0</td>\n",
       "      <td>1</td>\n",
       "    </tr>\n",
       "    <tr>\n",
       "      <th>888</th>\n",
       "      <td>0</td>\n",
       "      <td>3</td>\n",
       "      <td>1</td>\n",
       "      <td>2</td>\n",
       "      <td>23.450</td>\n",
       "      <td>0</td>\n",
       "      <td>0</td>\n",
       "      <td>1</td>\n",
       "    </tr>\n",
       "    <tr>\n",
       "      <th>889</th>\n",
       "      <td>1</td>\n",
       "      <td>1</td>\n",
       "      <td>0</td>\n",
       "      <td>0</td>\n",
       "      <td>30.000</td>\n",
       "      <td>1</td>\n",
       "      <td>0</td>\n",
       "      <td>0</td>\n",
       "    </tr>\n",
       "    <tr>\n",
       "      <th>890</th>\n",
       "      <td>0</td>\n",
       "      <td>3</td>\n",
       "      <td>0</td>\n",
       "      <td>0</td>\n",
       "      <td>7.750</td>\n",
       "      <td>1</td>\n",
       "      <td>1</td>\n",
       "      <td>0</td>\n",
       "    </tr>\n",
       "  </tbody>\n",
       "</table>\n",
       "<p>889 rows × 8 columns</p>\n",
       "</div>"
      ],
      "text/plain": [
       "     Survived  Pclass  SibSp  Parch    Fare  sex_male  Embarked_Q  Embarked_S\n",
       "0           0       3      1      0   7.250         1           0           1\n",
       "1           1       1      1      0  65.000         0           0           0\n",
       "2           1       3      0      0   7.925         0           0           1\n",
       "3           1       1      1      0  53.100         0           0           1\n",
       "4           0       3      0      0   8.050         1           0           1\n",
       "..        ...     ...    ...    ...     ...       ...         ...         ...\n",
       "886         0       2      0      0  13.000         1           0           1\n",
       "887         1       1      0      0  30.000         0           0           1\n",
       "888         0       3      1      2  23.450         0           0           1\n",
       "889         1       1      0      0  30.000         1           0           0\n",
       "890         0       3      0      0   7.750         1           1           0\n",
       "\n",
       "[889 rows x 8 columns]"
      ]
     },
     "execution_count": 39,
     "metadata": {},
     "output_type": "execute_result"
    }
   ],
   "source": [
    "df"
   ]
  },
  {
   "cell_type": "markdown",
   "id": "4cc0a2c9",
   "metadata": {},
   "source": [
    "# train and test split:"
   ]
  },
  {
   "cell_type": "code",
   "execution_count": 40,
   "id": "9b264a14",
   "metadata": {},
   "outputs": [],
   "source": [
    "x=df.iloc[:,df.columns!='Survived']\n",
    "y=df.iloc[:,df.columns=='Survived']\n",
    "y=y.iloc[:,0]"
   ]
  },
  {
   "cell_type": "code",
   "execution_count": 41,
   "id": "b971ba2a",
   "metadata": {},
   "outputs": [
    {
     "data": {
      "text/plain": [
       "0      0\n",
       "1      1\n",
       "2      1\n",
       "3      1\n",
       "4      0\n",
       "      ..\n",
       "886    0\n",
       "887    1\n",
       "888    0\n",
       "889    1\n",
       "890    0\n",
       "Name: Survived, Length: 889, dtype: int64"
      ]
     },
     "execution_count": 41,
     "metadata": {},
     "output_type": "execute_result"
    }
   ],
   "source": [
    "y"
   ]
  },
  {
   "cell_type": "code",
   "execution_count": 42,
   "id": "89cc4b8e",
   "metadata": {},
   "outputs": [],
   "source": [
    "from sklearn.model_selection import train_test_split"
   ]
  },
  {
   "cell_type": "code",
   "execution_count": 43,
   "id": "400c04ce",
   "metadata": {},
   "outputs": [],
   "source": [
    "x_train,x_test,y_train,y_test=train_test_split(x,y,test_size=0.3,random_state=24)"
   ]
  },
  {
   "cell_type": "markdown",
   "id": "b2847606",
   "metadata": {},
   "source": [
    "# Model(logistic):"
   ]
  },
  {
   "cell_type": "code",
   "execution_count": 44,
   "id": "610913f7",
   "metadata": {},
   "outputs": [],
   "source": [
    "from sklearn.linear_model import LogisticRegression"
   ]
  },
  {
   "cell_type": "code",
   "execution_count": 45,
   "id": "467624bd",
   "metadata": {
    "scrolled": true
   },
   "outputs": [
    {
     "data": {
      "text/plain": [
       "LogisticRegression(random_state=123, solver='liblinear')"
      ]
     },
     "execution_count": 45,
     "metadata": {},
     "output_type": "execute_result"
    }
   ],
   "source": [
    "logmodel = LogisticRegression(random_state=123, solver='liblinear')\n",
    "logmodel.fit(x_train,y_train)"
   ]
  },
  {
   "cell_type": "code",
   "execution_count": 46,
   "id": "56337bf3",
   "metadata": {},
   "outputs": [],
   "source": [
    "predictions1 = logmodel.predict(x_train)"
   ]
  },
  {
   "cell_type": "code",
   "execution_count": 47,
   "id": "950ef7b4",
   "metadata": {},
   "outputs": [],
   "source": [
    "from sklearn.metrics import confusion_matrix\n"
   ]
  },
  {
   "cell_type": "code",
   "execution_count": 48,
   "id": "e8994b77",
   "metadata": {},
   "outputs": [
    {
     "data": {
      "text/plain": [
       "array([[315,  65],\n",
       "       [ 72, 170]], dtype=int64)"
      ]
     },
     "execution_count": 48,
     "metadata": {},
     "output_type": "execute_result"
    }
   ],
   "source": [
    "confusion_matrix(y_train,predictions1)"
   ]
  },
  {
   "cell_type": "code",
   "execution_count": 49,
   "id": "bcaf903f",
   "metadata": {},
   "outputs": [],
   "source": [
    "from sklearn.metrics import accuracy_score"
   ]
  },
  {
   "cell_type": "code",
   "execution_count": 50,
   "id": "e27a7153",
   "metadata": {},
   "outputs": [
    {
     "data": {
      "text/plain": [
       "0.7797427652733119"
      ]
     },
     "execution_count": 50,
     "metadata": {},
     "output_type": "execute_result"
    }
   ],
   "source": [
    "accuracy_score(y_train,predictions1)\n"
   ]
  },
  {
   "cell_type": "code",
   "execution_count": 51,
   "id": "c4ff7209",
   "metadata": {},
   "outputs": [
    {
     "data": {
      "text/plain": [
       "array([0, 1, 0, 0, 0, 1, 1, 0, 0, 0, 0, 0, 1, 0, 1, 1, 0, 1, 0, 0, 0, 1,\n",
       "       1, 0, 0, 1, 0, 0, 1, 1, 0, 0, 1, 1, 0, 1, 1, 1, 0, 0, 0, 0, 0, 0,\n",
       "       0, 0, 0, 1, 0, 1, 1, 0, 1, 0, 1, 0, 1, 1, 0, 0, 1, 0, 1, 0, 0, 0,\n",
       "       1, 0, 1, 0, 0, 1, 0, 0, 1, 1, 0, 0, 0, 0, 1, 0, 1, 0, 0, 0, 1, 1,\n",
       "       0, 1, 0, 1, 0, 0, 0, 0, 0, 1, 0, 1, 0, 1, 1, 0, 1, 0, 0, 1, 0, 1,\n",
       "       0, 0, 0, 0, 0, 1, 0, 1, 0, 1, 0, 0, 0, 0, 1, 0, 0, 0, 1, 1, 0, 1,\n",
       "       0, 1, 0, 0, 0, 0, 1, 1, 0, 0, 0, 0, 0, 0, 0, 0, 1, 1, 0, 1, 1, 1,\n",
       "       0, 0, 0, 0, 1, 0, 1, 1, 1, 0, 0, 0, 0, 0, 0, 0, 0, 1, 0, 0, 1, 1,\n",
       "       0, 0, 0, 1, 0, 0, 1, 1, 1, 0, 1, 1, 1, 0, 1, 1, 1, 0, 0, 0, 0, 1,\n",
       "       0, 1, 0, 0, 0, 0, 0, 1, 1, 1, 0, 0, 0, 0, 1, 1, 0, 0, 0, 0, 1, 1,\n",
       "       0, 0, 1, 0, 0, 0, 0, 0, 1, 0, 0, 1, 0, 0, 1, 1, 0, 1, 0, 0, 0, 0,\n",
       "       0, 0, 0, 0, 0, 0, 0, 0, 0, 0, 0, 0, 1, 1, 0, 0, 0, 0, 1, 1, 0, 0,\n",
       "       1, 1, 0, 0, 0, 0, 0, 0, 0, 0, 0, 1, 1, 0, 0, 0, 0, 0, 1, 0, 1, 0,\n",
       "       1, 0, 1, 0, 1, 0, 0, 0, 1, 0, 0, 0, 1, 0, 1, 0, 0, 0, 0, 0, 0, 0,\n",
       "       1, 1, 0, 0, 1, 0, 0, 1, 0, 0, 0, 0, 0, 1, 1, 1, 1, 0, 0, 1, 0, 0,\n",
       "       1, 1, 0, 1, 0, 1, 0, 1, 0, 0, 0, 0, 0, 1, 0, 1, 0, 1, 0, 1, 1, 0,\n",
       "       1, 1, 0, 0, 1, 1, 0, 1, 0, 1, 0, 1, 0, 0, 0, 1, 1, 0, 1, 0, 1, 0,\n",
       "       0, 0, 0, 0, 0, 0, 0, 1, 0, 0, 0, 0, 0, 0, 0, 0, 1, 0, 1, 0, 0, 0,\n",
       "       0, 1, 0, 0, 0, 0, 1, 1, 0, 1, 0, 0, 0, 0, 1, 0, 1, 1, 1, 0, 0, 1,\n",
       "       0, 0, 0, 1, 0, 1, 0, 0, 1, 1, 0, 0, 1, 0, 0, 0, 0, 0, 0, 1, 1, 0,\n",
       "       0, 1, 0, 1, 0, 0, 0, 1, 1, 1, 1, 0, 1, 1, 0, 0, 0, 1, 0, 0, 1, 1,\n",
       "       0, 1, 1, 1, 0, 1, 0, 0, 1, 0, 1, 1, 0, 0, 0, 0, 1, 1, 1, 1, 1, 0,\n",
       "       1, 0, 0, 1, 0, 0, 0, 0, 0, 1, 0, 0, 1, 1, 1, 0, 0, 0, 1, 0, 1, 1,\n",
       "       0, 0, 0, 1, 0, 1, 0, 1, 1, 0, 0, 1, 0, 1, 0, 0, 0, 1, 1, 0, 1, 1,\n",
       "       0, 1, 0, 0, 0, 1, 1, 0, 1, 1, 1, 0, 0, 0, 0, 1, 0, 1, 0, 0, 0, 0,\n",
       "       0, 1, 1, 0, 0, 0, 1, 0, 1, 1, 0, 1, 0, 0, 0, 1, 1, 0, 0, 0, 0, 1,\n",
       "       0, 0, 0, 0, 0, 1, 0, 0, 1, 0, 0, 0, 0, 1, 1, 1, 1, 1, 0, 0, 1, 0,\n",
       "       0, 0, 1, 0, 1, 0, 0, 1, 0, 0, 0, 0, 1, 0, 1, 1, 1, 0, 0, 1, 1, 1,\n",
       "       0, 0, 1, 0, 0, 1], dtype=int64)"
      ]
     },
     "execution_count": 51,
     "metadata": {},
     "output_type": "execute_result"
    }
   ],
   "source": [
    "predictions1"
   ]
  },
  {
   "cell_type": "code",
   "execution_count": 52,
   "id": "2e75149f",
   "metadata": {},
   "outputs": [],
   "source": [
    "predictions2 = logmodel.predict(x_test)"
   ]
  },
  {
   "cell_type": "code",
   "execution_count": 53,
   "id": "63c94c8c",
   "metadata": {},
   "outputs": [],
   "source": [
    "from sklearn.metrics import confusion_matrix\n"
   ]
  },
  {
   "cell_type": "code",
   "execution_count": 54,
   "id": "81221069",
   "metadata": {},
   "outputs": [
    {
     "data": {
      "text/plain": [
       "array([[145,  24],\n",
       "       [ 30,  68]], dtype=int64)"
      ]
     },
     "execution_count": 54,
     "metadata": {},
     "output_type": "execute_result"
    }
   ],
   "source": [
    "confusion_matrix(y_test,predictions2)"
   ]
  },
  {
   "cell_type": "code",
   "execution_count": 55,
   "id": "3b8c49b5",
   "metadata": {},
   "outputs": [],
   "source": [
    "from sklearn.metrics import accuracy_score"
   ]
  },
  {
   "cell_type": "code",
   "execution_count": 56,
   "id": "7deaae3e",
   "metadata": {},
   "outputs": [
    {
     "data": {
      "text/plain": [
       "0.797752808988764"
      ]
     },
     "execution_count": 56,
     "metadata": {},
     "output_type": "execute_result"
    }
   ],
   "source": [
    "accuracy_score(y_test,predictions2)\n"
   ]
  },
  {
   "cell_type": "code",
   "execution_count": 57,
   "id": "c4da7bba",
   "metadata": {},
   "outputs": [
    {
     "data": {
      "text/plain": [
       "array([0, 1, 0, 0, 1, 0, 0, 0, 0, 0, 0, 1, 1, 1, 0, 0, 0, 1, 0, 0, 0, 1,\n",
       "       0, 0, 1, 1, 0, 0, 1, 0, 1, 0, 1, 0, 0, 1, 1, 0, 0, 0, 1, 0, 0, 0,\n",
       "       0, 1, 0, 0, 0, 0, 0, 1, 1, 0, 0, 0, 1, 0, 0, 0, 0, 0, 0, 0, 0, 0,\n",
       "       0, 0, 0, 0, 0, 1, 0, 0, 1, 0, 0, 0, 1, 1, 1, 1, 0, 1, 1, 0, 1, 0,\n",
       "       0, 0, 0, 0, 0, 1, 0, 1, 0, 0, 0, 1, 0, 0, 1, 0, 0, 1, 1, 0, 0, 0,\n",
       "       0, 0, 1, 0, 0, 1, 1, 1, 0, 0, 1, 0, 0, 1, 0, 0, 0, 0, 0, 0, 0, 1,\n",
       "       1, 0, 1, 1, 0, 0, 0, 0, 0, 0, 0, 0, 1, 0, 1, 1, 0, 0, 1, 1, 1, 0,\n",
       "       1, 0, 1, 0, 0, 0, 1, 1, 0, 1, 0, 0, 1, 1, 0, 0, 0, 1, 1, 0, 1, 0,\n",
       "       0, 0, 1, 0, 1, 0, 0, 0, 0, 1, 1, 0, 0, 0, 0, 0, 0, 0, 1, 1, 0, 0,\n",
       "       0, 0, 1, 0, 0, 0, 1, 0, 1, 0, 1, 1, 0, 0, 0, 1, 1, 0, 1, 0, 0, 1,\n",
       "       1, 1, 0, 0, 0, 0, 0, 0, 1, 0, 0, 0, 1, 1, 0, 0, 1, 0, 0, 1, 0, 1,\n",
       "       1, 1, 1, 0, 1, 0, 0, 0, 1, 0, 0, 1, 0, 1, 0, 0, 1, 1, 0, 0, 0, 0,\n",
       "       0, 0, 0], dtype=int64)"
      ]
     },
     "execution_count": 57,
     "metadata": {},
     "output_type": "execute_result"
    }
   ],
   "source": [
    "predictions2"
   ]
  },
  {
   "cell_type": "markdown",
   "id": "1c6e8af8",
   "metadata": {},
   "source": [
    "Let's move on to evaluate our model!"
   ]
  },
  {
   "cell_type": "markdown",
   "id": "c39cba28",
   "metadata": {},
   "source": [
    "## Evaluation"
   ]
  },
  {
   "cell_type": "markdown",
   "id": "8c176b64",
   "metadata": {},
   "source": [
    "We can check precision,recall,f1-score using classification report!"
   ]
  },
  {
   "cell_type": "code",
   "execution_count": 58,
   "id": "3523e16c",
   "metadata": {},
   "outputs": [],
   "source": [
    "from sklearn.metrics import classification_report"
   ]
  },
  {
   "cell_type": "code",
   "execution_count": 59,
   "id": "9642a8de",
   "metadata": {},
   "outputs": [
    {
     "name": "stdout",
     "output_type": "stream",
     "text": [
      "              precision    recall  f1-score   support\n",
      "\n",
      "           0       0.81      0.83      0.82       380\n",
      "           1       0.72      0.70      0.71       242\n",
      "\n",
      "    accuracy                           0.78       622\n",
      "   macro avg       0.77      0.77      0.77       622\n",
      "weighted avg       0.78      0.78      0.78       622\n",
      "\n"
     ]
    }
   ],
   "source": [
    "print(classification_report(y_train,predictions1))"
   ]
  },
  {
   "cell_type": "code",
   "execution_count": 60,
   "id": "fb08d80a",
   "metadata": {},
   "outputs": [
    {
     "name": "stdout",
     "output_type": "stream",
     "text": [
      "              precision    recall  f1-score   support\n",
      "\n",
      "           0       0.83      0.86      0.84       169\n",
      "           1       0.74      0.69      0.72        98\n",
      "\n",
      "    accuracy                           0.80       267\n",
      "   macro avg       0.78      0.78      0.78       267\n",
      "weighted avg       0.80      0.80      0.80       267\n",
      "\n"
     ]
    }
   ],
   "source": [
    "print(classification_report(y_test,predictions2))"
   ]
  },
  {
   "cell_type": "markdown",
   "id": "74b21148",
   "metadata": {},
   "source": [
    "# Model(DecisionTreeClassification):"
   ]
  },
  {
   "cell_type": "code",
   "execution_count": 61,
   "id": "d858dcd7",
   "metadata": {},
   "outputs": [
    {
     "data": {
      "text/plain": [
       "0    549\n",
       "1    340\n",
       "Name: Survived, dtype: int64"
      ]
     },
     "execution_count": 61,
     "metadata": {},
     "output_type": "execute_result"
    }
   ],
   "source": [
    "df.Survived.value_counts()"
   ]
  },
  {
   "cell_type": "code",
   "execution_count": 62,
   "id": "1af5b94b",
   "metadata": {},
   "outputs": [],
   "source": [
    "from sklearn.tree import DecisionTreeClassifier\n",
    "dt=DecisionTreeClassifier(random_state=123)"
   ]
  },
  {
   "cell_type": "code",
   "execution_count": 63,
   "id": "75b8a231",
   "metadata": {},
   "outputs": [
    {
     "data": {
      "text/plain": [
       "DecisionTreeClassifier(random_state=123)"
      ]
     },
     "execution_count": 63,
     "metadata": {},
     "output_type": "execute_result"
    }
   ],
   "source": [
    "dt.fit(x_train,y_train)"
   ]
  },
  {
   "cell_type": "code",
   "execution_count": 64,
   "id": "9091df5a",
   "metadata": {},
   "outputs": [],
   "source": [
    "predict1=dt.predict(x_train)"
   ]
  },
  {
   "cell_type": "code",
   "execution_count": 65,
   "id": "c35831b1",
   "metadata": {},
   "outputs": [
    {
     "data": {
      "text/plain": [
       "0.9260450160771704"
      ]
     },
     "execution_count": 65,
     "metadata": {},
     "output_type": "execute_result"
    }
   ],
   "source": [
    "dt.score(x_train,y_train)"
   ]
  },
  {
   "cell_type": "code",
   "execution_count": 66,
   "id": "cb5f2c22",
   "metadata": {},
   "outputs": [],
   "source": [
    "from sklearn.metrics import accuracy_score"
   ]
  },
  {
   "cell_type": "code",
   "execution_count": 67,
   "id": "0b81b2e6",
   "metadata": {},
   "outputs": [
    {
     "data": {
      "text/plain": [
       "0.9260450160771704"
      ]
     },
     "execution_count": 67,
     "metadata": {},
     "output_type": "execute_result"
    }
   ],
   "source": [
    "accuracy_score(y_train,predict1)"
   ]
  },
  {
   "cell_type": "code",
   "execution_count": 68,
   "id": "36046786",
   "metadata": {},
   "outputs": [],
   "source": [
    "predict2=dt.predict(x_test)"
   ]
  },
  {
   "cell_type": "code",
   "execution_count": 69,
   "id": "ac97bd58",
   "metadata": {},
   "outputs": [
    {
     "data": {
      "text/plain": [
       "0.7865168539325843"
      ]
     },
     "execution_count": 69,
     "metadata": {},
     "output_type": "execute_result"
    }
   ],
   "source": [
    "dt.score(x_test,y_test)"
   ]
  },
  {
   "cell_type": "code",
   "execution_count": 70,
   "id": "813f7bc6",
   "metadata": {},
   "outputs": [],
   "source": [
    "from sklearn.metrics import accuracy_score"
   ]
  },
  {
   "cell_type": "code",
   "execution_count": 71,
   "id": "6465d9db",
   "metadata": {},
   "outputs": [
    {
     "data": {
      "text/plain": [
       "0.7865168539325843"
      ]
     },
     "execution_count": 71,
     "metadata": {},
     "output_type": "execute_result"
    }
   ],
   "source": [
    "accuracy_score(y_test,predict2)"
   ]
  },
  {
   "cell_type": "code",
   "execution_count": 72,
   "id": "0b1781b9",
   "metadata": {},
   "outputs": [],
   "source": [
    "depth=[1,2,3,4,5,6,7,8,9,10]\n",
    "acc_test=[]\n",
    "acc_train=[]"
   ]
  },
  {
   "cell_type": "code",
   "execution_count": 73,
   "id": "ea405c31",
   "metadata": {},
   "outputs": [],
   "source": [
    "for i in depth:\n",
    "    model_bestfit=DecisionTreeClassifier(max_depth=i)\n",
    "    model_bestfit.fit(x_train,y_train)\n",
    "    predict_bestfit_train=model_bestfit.predict(x_train)\n",
    "    predict_bestfit_test=model_bestfit.predict(x_test)\n",
    "    acc_train.append(accuracy_score(y_train,predict_bestfit_train))\n",
    "    acc_test.append(accuracy_score(y_test,predict_bestfit_test))"
   ]
  },
  {
   "cell_type": "code",
   "execution_count": 74,
   "id": "ae0b4313",
   "metadata": {},
   "outputs": [
    {
     "data": {
      "image/png": "[encoded data removed]",
      "text/plain": [
       "<Figure size 1440x864 with 1 Axes>"
      ]
     },
     "metadata": {
      "needs_background": "light"
     },
     "output_type": "display_data"
    }
   ],
   "source": [
    "plt.figure(figsize=(20,12))\n",
    "plt.plot(depth,acc_train,'red')\n",
    "plt.plot(depth,acc_test,'blue')\n",
    "plt.xlabel('depth')\n",
    "plt.ylabel('accuracy')\n",
    "plt.xticks(np.arange(1, 11, step=1))\n",
    "plt.legend(['train','test'])\n",
    "plt.show()"
   ]
  },
  {
   "cell_type": "code",
   "execution_count": 75,
   "id": "1cc0bd9a",
   "metadata": {},
   "outputs": [],
   "source": [
    "final1=DecisionTreeClassifier(max_depth=4)\n",
    "final2=DecisionTreeClassifier(max_depth=5)"
   ]
  },
  {
   "cell_type": "markdown",
   "id": "bba48834",
   "metadata": {},
   "source": [
    "# depth-4:"
   ]
  },
  {
   "cell_type": "code",
   "execution_count": 76,
   "id": "ef3f675b",
   "metadata": {},
   "outputs": [
    {
     "data": {
      "text/plain": [
       "DecisionTreeClassifier(max_depth=4)"
      ]
     },
     "execution_count": 76,
     "metadata": {},
     "output_type": "execute_result"
    }
   ],
   "source": [
    "final1.fit(x_train,y_train)"
   ]
  },
  {
   "cell_type": "code",
   "execution_count": 77,
   "id": "05157d67",
   "metadata": {},
   "outputs": [],
   "source": [
    "final1_predict1=dt.predict(x_train)"
   ]
  },
  {
   "cell_type": "code",
   "execution_count": 78,
   "id": "a07ef642",
   "metadata": {},
   "outputs": [
    {
     "data": {
      "text/plain": [
       "0.8006430868167203"
      ]
     },
     "execution_count": 78,
     "metadata": {},
     "output_type": "execute_result"
    }
   ],
   "source": [
    "final1.score(x_train,y_train)"
   ]
  },
  {
   "cell_type": "code",
   "execution_count": 79,
   "id": "07a4f859",
   "metadata": {},
   "outputs": [],
   "source": [
    "from sklearn.metrics import accuracy_score"
   ]
  },
  {
   "cell_type": "code",
   "execution_count": 80,
   "id": "81d9049b",
   "metadata": {},
   "outputs": [
    {
     "data": {
      "text/plain": [
       "0.9260450160771704"
      ]
     },
     "execution_count": 80,
     "metadata": {},
     "output_type": "execute_result"
    }
   ],
   "source": [
    "accuracy_score(y_train,final1_predict1)"
   ]
  },
  {
   "cell_type": "code",
   "execution_count": 81,
   "id": "af6232a5",
   "metadata": {},
   "outputs": [],
   "source": [
    "a=accuracy_score(y_train,final1_predict1)"
   ]
  },
  {
   "cell_type": "code",
   "execution_count": 82,
   "id": "0f252e71",
   "metadata": {},
   "outputs": [],
   "source": [
    "final1_predict2=dt.predict(x_test)"
   ]
  },
  {
   "cell_type": "code",
   "execution_count": 83,
   "id": "da9ab477",
   "metadata": {},
   "outputs": [
    {
     "data": {
      "text/plain": [
       "0.8127340823970037"
      ]
     },
     "execution_count": 83,
     "metadata": {},
     "output_type": "execute_result"
    }
   ],
   "source": [
    "final1.score(x_test,y_test)"
   ]
  },
  {
   "cell_type": "code",
   "execution_count": 84,
   "id": "bc299b45",
   "metadata": {},
   "outputs": [
    {
     "data": {
      "text/plain": [
       "0.7865168539325843"
      ]
     },
     "execution_count": 84,
     "metadata": {},
     "output_type": "execute_result"
    }
   ],
   "source": [
    "accuracy_score(y_test,final1_predict2)"
   ]
  },
  {
   "cell_type": "code",
   "execution_count": 85,
   "id": "8b88c8ba",
   "metadata": {},
   "outputs": [],
   "source": [
    "b=accuracy_score(y_test,final1_predict2)"
   ]
  },
  {
   "cell_type": "code",
   "execution_count": 86,
   "id": "0e107093",
   "metadata": {},
   "outputs": [
    {
     "data": {
      "text/plain": [
       "-1395281.6214458607"
      ]
     },
     "execution_count": 86,
     "metadata": {},
     "output_type": "execute_result"
    }
   ],
   "source": [
    "(b-a)*10000000"
   ]
  },
  {
   "cell_type": "markdown",
   "id": "a3040584",
   "metadata": {},
   "source": [
    "# depth-5:"
   ]
  },
  {
   "cell_type": "code",
   "execution_count": 87,
   "id": "48a3e43b",
   "metadata": {},
   "outputs": [
    {
     "data": {
      "text/plain": [
       "DecisionTreeClassifier(max_depth=5)"
      ]
     },
     "execution_count": 87,
     "metadata": {},
     "output_type": "execute_result"
    }
   ],
   "source": [
    "final2.fit(x_train,y_train)"
   ]
  },
  {
   "cell_type": "code",
   "execution_count": 88,
   "id": "49d27190",
   "metadata": {},
   "outputs": [],
   "source": [
    "final2_predict1=dt.predict(x_train)"
   ]
  },
  {
   "cell_type": "code",
   "execution_count": 89,
   "id": "2b4140b6",
   "metadata": {},
   "outputs": [
    {
     "data": {
      "text/plain": [
       "0.8231511254019293"
      ]
     },
     "execution_count": 89,
     "metadata": {},
     "output_type": "execute_result"
    }
   ],
   "source": [
    "final2.score(x_train,y_train)"
   ]
  },
  {
   "cell_type": "code",
   "execution_count": 90,
   "id": "39af3ada",
   "metadata": {},
   "outputs": [],
   "source": [
    "from sklearn.metrics import accuracy_score"
   ]
  },
  {
   "cell_type": "code",
   "execution_count": 91,
   "id": "66400ff5",
   "metadata": {},
   "outputs": [
    {
     "data": {
      "text/plain": [
       "0.9260450160771704"
      ]
     },
     "execution_count": 91,
     "metadata": {},
     "output_type": "execute_result"
    }
   ],
   "source": [
    "accuracy_score(y_train,final2_predict1)"
   ]
  },
  {
   "cell_type": "code",
   "execution_count": 92,
   "id": "3d65477c",
   "metadata": {},
   "outputs": [],
   "source": [
    "a1=accuracy_score(y_train,final2_predict1)"
   ]
  },
  {
   "cell_type": "code",
   "execution_count": 93,
   "id": "47f1ccd0",
   "metadata": {},
   "outputs": [],
   "source": [
    "final2_predict2=dt.predict(x_test)"
   ]
  },
  {
   "cell_type": "code",
   "execution_count": 94,
   "id": "74376252",
   "metadata": {},
   "outputs": [
    {
     "data": {
      "text/plain": [
       "0.8127340823970037"
      ]
     },
     "execution_count": 94,
     "metadata": {},
     "output_type": "execute_result"
    }
   ],
   "source": [
    "final2.score(x_test,y_test)"
   ]
  },
  {
   "cell_type": "code",
   "execution_count": 95,
   "id": "08dd30cd",
   "metadata": {},
   "outputs": [
    {
     "data": {
      "text/plain": [
       "0.7865168539325843"
      ]
     },
     "execution_count": 95,
     "metadata": {},
     "output_type": "execute_result"
    }
   ],
   "source": [
    "accuracy_score(y_test,final2_predict2)"
   ]
  },
  {
   "cell_type": "code",
   "execution_count": 96,
   "id": "bf21d9ad",
   "metadata": {},
   "outputs": [],
   "source": [
    "b1=accuracy_score(y_test,final2_predict2)"
   ]
  },
  {
   "cell_type": "code",
   "execution_count": 97,
   "id": "08208e6d",
   "metadata": {},
   "outputs": [
    {
     "data": {
      "text/plain": [
       "-1395281.6214458607"
      ]
     },
     "execution_count": 97,
     "metadata": {},
     "output_type": "execute_result"
    }
   ],
   "source": [
    "(b1-a1)*10000000"
   ]
  },
  {
   "cell_type": "markdown",
   "id": "e1fb960a",
   "metadata": {},
   "source": [
    "# SMOT:"
   ]
  },
  {
   "cell_type": "code",
   "execution_count": 98,
   "id": "063e49d3",
   "metadata": {},
   "outputs": [
    {
     "name": "stdout",
     "output_type": "stream",
     "text": [
      "Requirement already satisfied: imblearn in c:\\users\\mashkoor khader\\anaconda3\\lib\\site-packages (0.0)\n",
      "Requirement already satisfied: imbalanced-learn in c:\\users\\mashkoor khader\\anaconda3\\lib\\site-packages (from imblearn) (0.10.1)\n",
      "Requirement already satisfied: numpy>=1.17.3 in c:\\users\\mashkoor khader\\anaconda3\\lib\\site-packages (from imbalanced-learn->imblearn) (1.21.5)\n",
      "Requirement already satisfied: threadpoolctl>=2.0.0 in c:\\users\\mashkoor khader\\anaconda3\\lib\\site-packages (from imbalanced-learn->imblearn) (2.2.0)\n",
      "Requirement already satisfied: scikit-learn>=1.0.2 in c:\\users\\mashkoor khader\\anaconda3\\lib\\site-packages (from imbalanced-learn->imblearn) (1.0.2)\n",
      "Requirement already satisfied: scipy>=1.3.2 in c:\\users\\mashkoor khader\\anaconda3\\lib\\site-packages (from imbalanced-learn->imblearn) (1.7.3)\n",
      "Requirement already satisfied: joblib>=1.1.1 in c:\\users\\mashkoor khader\\anaconda3\\lib\\site-packages (from imbalanced-learn->imblearn) (1.2.0)\n",
      "Note: you may need to restart the kernel to use updated packages.\n"
     ]
    }
   ],
   "source": [
    "pip install imblearn"
   ]
  },
  {
   "cell_type": "code",
   "execution_count": 99,
   "id": "c5f3042a",
   "metadata": {},
   "outputs": [],
   "source": [
    "from imblearn.over_sampling import SMOTE"
   ]
  },
  {
   "cell_type": "code",
   "execution_count": 100,
   "id": "7e4c03cb",
   "metadata": {},
   "outputs": [],
   "source": [
    "sm = SMOTE(random_state=123)"
   ]
  },
  {
   "cell_type": "code",
   "execution_count": 101,
   "id": "0ebd3ee9",
   "metadata": {},
   "outputs": [],
   "source": [
    "xr, yr= sm.fit_resample(x_train,y_train)"
   ]
  },
  {
   "cell_type": "code",
   "execution_count": 102,
   "id": "d6746dfd",
   "metadata": {},
   "outputs": [],
   "source": [
    "model4 = logmodel.fit(xr,yr)"
   ]
  },
  {
   "cell_type": "code",
   "execution_count": 103,
   "id": "be661053",
   "metadata": {},
   "outputs": [],
   "source": [
    "y_pred_sm = model4.predict(x_test)"
   ]
  },
  {
   "cell_type": "code",
   "execution_count": 104,
   "id": "40cd2729",
   "metadata": {},
   "outputs": [
    {
     "name": "stdout",
     "output_type": "stream",
     "text": [
      "              precision    recall  f1-score   support\n",
      "\n",
      "           0       0.84      0.83      0.84       169\n",
      "           1       0.72      0.73      0.73        98\n",
      "\n",
      "    accuracy                           0.80       267\n",
      "   macro avg       0.78      0.78      0.78       267\n",
      "weighted avg       0.80      0.80      0.80       267\n",
      "\n"
     ]
    }
   ],
   "source": [
    "print(classification_report(y_test,y_pred_sm))"
   ]
  },
  {
   "cell_type": "code",
   "execution_count": 105,
   "id": "3bc21d95",
   "metadata": {},
   "outputs": [
    {
     "data": {
      "text/plain": [
       "622"
      ]
     },
     "execution_count": 105,
     "metadata": {},
     "output_type": "execute_result"
    }
   ],
   "source": [
    "len(y_train)"
   ]
  },
  {
   "cell_type": "code",
   "execution_count": 106,
   "id": "9cf924e0",
   "metadata": {},
   "outputs": [
    {
     "data": {
      "text/plain": [
       "760"
      ]
     },
     "execution_count": 106,
     "metadata": {},
     "output_type": "execute_result"
    }
   ],
   "source": [
    "len(yr)"
   ]
  },
  {
   "cell_type": "code",
   "execution_count": null,
   "id": "7f24f39d",
   "metadata": {},
   "outputs": [],
   "source": []
  }
 ],
 "metadata": {
  "kernelspec": {
   "display_name": "Python 3 (ipykernel)",
   "language": "python",
   "name": "python3"
  },
  "language_info": {
   "codemirror_mode": {
    "name": "ipython",
    "version": 3
   },
   "file_extension": ".py",
   "mimetype": "text/x-python",
   "name": "python",
   "nbconvert_exporter": "python",
   "pygments_lexer": "ipython3",
   "version": "3.9.12"
  }
 },
 "nbformat": 4,
 "nbformat_minor": 5
}
